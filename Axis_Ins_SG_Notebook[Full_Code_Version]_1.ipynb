{
  "cells": [
    {
      "cell_type": "markdown",
      "metadata": {
        "id": "view-in-github",
        "colab_type": "text"
      },
      "source": [
        "<a href=\"https://colab.research.google.com/github/Gurgirl/Certificate/blob/main/Axis_Ins_SG_Notebook%5BFull_Code_Version%5D_1.ipynb\" target=\"_parent\"><img src=\"https://colab.research.google.com/assets/colab-badge.svg\" alt=\"Open In Colab\"/></a>"
      ]
    },
    {
      "cell_type": "markdown",
      "metadata": {
        "id": "nalYx0z65riC"
      },
      "source": [
        "# Project Business Statistics: Axis Insurance\n",
        "\n",
        "**Marks: 60**"
      ]
    },
    {
      "cell_type": "markdown",
      "metadata": {
        "id": "yLHERKT15riE"
      },
      "source": [
        "## Define Problem Statement and Objectives"
      ]
    },
    {
      "cell_type": "markdown",
      "metadata": {
        "id": "1HMKMTOR5riF"
      },
      "source": [
        "To analyse the customer base of the insurance company Axis Insurance and answer some key questions about their customers using statistical evidence."
      ]
    },
    {
      "cell_type": "markdown",
      "metadata": {
        "id": "BIvAhxP_5riF"
      },
      "source": [
        "## Import all the necessary libraries"
      ]
    },
    {
      "cell_type": "code",
      "execution_count": 102,
      "metadata": {
        "id": "fJyqmn9a5riF"
      },
      "outputs": [],
      "source": [
        "import numpy as np #library used for data manipulation and analysis\n",
        "import pandas as pd # library used for working with arrays\n",
        "from matplotlib import pyplot as plt #library for plots and visualizations\n",
        "%matplotlib inline\n",
        "import seaborn as sns #library for visualizations\n",
        "\n",
        "# library for statistical tests\n",
        "import scipy.stats as stats"
      ]
    },
    {
      "cell_type": "code",
      "execution_count": 103,
      "metadata": {
        "id": "6RjPmL2V5riG"
      },
      "outputs": [],
      "source": [
        "sns.set() #setting the default seaborn style for our plots"
      ]
    },
    {
      "cell_type": "markdown",
      "metadata": {
        "id": "GSPQiCBD5riH"
      },
      "source": [
        "## 1.\tExplore the dataset and extract insights using Exploratory Data Analysis. (8 + 6 = 14 Marks)"
      ]
    },
    {
      "cell_type": "markdown",
      "metadata": {
        "id": "CPX_rae35riH"
      },
      "source": [
        "### Exploratory Data Analysis - Step by step approach\n",
        "\n",
        "Typical Data exploration activity consists of the following steps:\n",
        "1.\tImporting Data\n",
        "2.\tVariable Identification\n",
        "3.  Variable Transformation/Feature Creation\n",
        "4.  Missing value detection\n",
        "5.\tUnivariate Analysis\n",
        "6.\tBivariate Analysis"
      ]
    },
    {
      "cell_type": "markdown",
      "metadata": {
        "id": "yI-8LHRt5riI"
      },
      "source": [
        "### Reading the Data into a DataFrame"
      ]
    },
    {
      "cell_type": "code",
      "execution_count": 104,
      "metadata": {
        "colab": {
          "base_uri": "https://localhost:8080/"
        },
        "id": "Bf8zNmbS5riI",
        "outputId": "41780d34-1f92-4715-de14-2605be35ac75"
      },
      "outputs": [
        {
          "output_type": "stream",
          "name": "stdout",
          "text": [
            "Drive already mounted at /content/drive; to attempt to forcibly remount, call drive.mount(\"/content/drive\", force_remount=True).\n"
          ]
        }
      ],
      "source": [
        "# write the code for reading the dataset AxisInsurance.csv\n",
        "from google.colab import drive\n",
        "drive.mount('/content/drive')"
      ]
    },
    {
      "cell_type": "code",
      "source": [
        "data = pd.read_csv('/content/drive/MyDrive/Colab Notebooks/AxisInsurance.csv')"
      ],
      "metadata": {
        "id": "fftheaWLBQEm"
      },
      "execution_count": 105,
      "outputs": []
    },
    {
      "cell_type": "markdown",
      "metadata": {
        "id": "zKbJwivW5riJ"
      },
      "source": [
        "### Data Overview\n",
        "- View a few rows of the data frame.\n",
        "- Check the shape and data types of the data frame. Add observations.\n",
        "- Fix the data-types (if needed).\n",
        "- Missing Value Check.\n",
        "- Summary statistics from the data frame. Add observations."
      ]
    },
    {
      "cell_type": "code",
      "execution_count": 106,
      "metadata": {
        "colab": {
          "base_uri": "https://localhost:8080/",
          "height": 206
        },
        "id": "Gde9Ofum5riJ",
        "outputId": "73661616-1b0b-4c9c-faf6-bbc12b3173e5"
      },
      "outputs": [
        {
          "output_type": "execute_result",
          "data": {
            "text/plain": [
              "   age     sex     bmi  children smoker     region      charges\n",
              "0   21  female  16.000         1     no  northeast   3167.45585\n",
              "1   18    male  33.770         1     no  southeast   1725.55230\n",
              "2   28    male  33.000         3     no  southeast   4449.46200\n",
              "3   33    male  22.705         0     no  northwest  21984.47061\n",
              "4   32    male  28.880         0     no  northwest   3866.85520"
            ],
            "text/html": [
              "\n",
              "  <div id=\"df-d1ddaf04-7ea3-4288-8c4f-65c1c6f8613c\">\n",
              "    <div class=\"colab-df-container\">\n",
              "      <div>\n",
              "<style scoped>\n",
              "    .dataframe tbody tr th:only-of-type {\n",
              "        vertical-align: middle;\n",
              "    }\n",
              "\n",
              "    .dataframe tbody tr th {\n",
              "        vertical-align: top;\n",
              "    }\n",
              "\n",
              "    .dataframe thead th {\n",
              "        text-align: right;\n",
              "    }\n",
              "</style>\n",
              "<table border=\"1\" class=\"dataframe\">\n",
              "  <thead>\n",
              "    <tr style=\"text-align: right;\">\n",
              "      <th></th>\n",
              "      <th>age</th>\n",
              "      <th>sex</th>\n",
              "      <th>bmi</th>\n",
              "      <th>children</th>\n",
              "      <th>smoker</th>\n",
              "      <th>region</th>\n",
              "      <th>charges</th>\n",
              "    </tr>\n",
              "  </thead>\n",
              "  <tbody>\n",
              "    <tr>\n",
              "      <th>0</th>\n",
              "      <td>21</td>\n",
              "      <td>female</td>\n",
              "      <td>16.000</td>\n",
              "      <td>1</td>\n",
              "      <td>no</td>\n",
              "      <td>northeast</td>\n",
              "      <td>3167.45585</td>\n",
              "    </tr>\n",
              "    <tr>\n",
              "      <th>1</th>\n",
              "      <td>18</td>\n",
              "      <td>male</td>\n",
              "      <td>33.770</td>\n",
              "      <td>1</td>\n",
              "      <td>no</td>\n",
              "      <td>southeast</td>\n",
              "      <td>1725.55230</td>\n",
              "    </tr>\n",
              "    <tr>\n",
              "      <th>2</th>\n",
              "      <td>28</td>\n",
              "      <td>male</td>\n",
              "      <td>33.000</td>\n",
              "      <td>3</td>\n",
              "      <td>no</td>\n",
              "      <td>southeast</td>\n",
              "      <td>4449.46200</td>\n",
              "    </tr>\n",
              "    <tr>\n",
              "      <th>3</th>\n",
              "      <td>33</td>\n",
              "      <td>male</td>\n",
              "      <td>22.705</td>\n",
              "      <td>0</td>\n",
              "      <td>no</td>\n",
              "      <td>northwest</td>\n",
              "      <td>21984.47061</td>\n",
              "    </tr>\n",
              "    <tr>\n",
              "      <th>4</th>\n",
              "      <td>32</td>\n",
              "      <td>male</td>\n",
              "      <td>28.880</td>\n",
              "      <td>0</td>\n",
              "      <td>no</td>\n",
              "      <td>northwest</td>\n",
              "      <td>3866.85520</td>\n",
              "    </tr>\n",
              "  </tbody>\n",
              "</table>\n",
              "</div>\n",
              "      <button class=\"colab-df-convert\" onclick=\"convertToInteractive('df-d1ddaf04-7ea3-4288-8c4f-65c1c6f8613c')\"\n",
              "              title=\"Convert this dataframe to an interactive table.\"\n",
              "              style=\"display:none;\">\n",
              "        \n",
              "  <svg xmlns=\"http://www.w3.org/2000/svg\" height=\"24px\"viewBox=\"0 0 24 24\"\n",
              "       width=\"24px\">\n",
              "    <path d=\"M0 0h24v24H0V0z\" fill=\"none\"/>\n",
              "    <path d=\"M18.56 5.44l.94 2.06.94-2.06 2.06-.94-2.06-.94-.94-2.06-.94 2.06-2.06.94zm-11 1L8.5 8.5l.94-2.06 2.06-.94-2.06-.94L8.5 2.5l-.94 2.06-2.06.94zm10 10l.94 2.06.94-2.06 2.06-.94-2.06-.94-.94-2.06-.94 2.06-2.06.94z\"/><path d=\"M17.41 7.96l-1.37-1.37c-.4-.4-.92-.59-1.43-.59-.52 0-1.04.2-1.43.59L10.3 9.45l-7.72 7.72c-.78.78-.78 2.05 0 2.83L4 21.41c.39.39.9.59 1.41.59.51 0 1.02-.2 1.41-.59l7.78-7.78 2.81-2.81c.8-.78.8-2.07 0-2.86zM5.41 20L4 18.59l7.72-7.72 1.47 1.35L5.41 20z\"/>\n",
              "  </svg>\n",
              "      </button>\n",
              "      \n",
              "  <style>\n",
              "    .colab-df-container {\n",
              "      display:flex;\n",
              "      flex-wrap:wrap;\n",
              "      gap: 12px;\n",
              "    }\n",
              "\n",
              "    .colab-df-convert {\n",
              "      background-color: #E8F0FE;\n",
              "      border: none;\n",
              "      border-radius: 50%;\n",
              "      cursor: pointer;\n",
              "      display: none;\n",
              "      fill: #1967D2;\n",
              "      height: 32px;\n",
              "      padding: 0 0 0 0;\n",
              "      width: 32px;\n",
              "    }\n",
              "\n",
              "    .colab-df-convert:hover {\n",
              "      background-color: #E2EBFA;\n",
              "      box-shadow: 0px 1px 2px rgba(60, 64, 67, 0.3), 0px 1px 3px 1px rgba(60, 64, 67, 0.15);\n",
              "      fill: #174EA6;\n",
              "    }\n",
              "\n",
              "    [theme=dark] .colab-df-convert {\n",
              "      background-color: #3B4455;\n",
              "      fill: #D2E3FC;\n",
              "    }\n",
              "\n",
              "    [theme=dark] .colab-df-convert:hover {\n",
              "      background-color: #434B5C;\n",
              "      box-shadow: 0px 1px 3px 1px rgba(0, 0, 0, 0.15);\n",
              "      filter: drop-shadow(0px 1px 2px rgba(0, 0, 0, 0.3));\n",
              "      fill: #FFFFFF;\n",
              "    }\n",
              "  </style>\n",
              "\n",
              "      <script>\n",
              "        const buttonEl =\n",
              "          document.querySelector('#df-d1ddaf04-7ea3-4288-8c4f-65c1c6f8613c button.colab-df-convert');\n",
              "        buttonEl.style.display =\n",
              "          google.colab.kernel.accessAllowed ? 'block' : 'none';\n",
              "\n",
              "        async function convertToInteractive(key) {\n",
              "          const element = document.querySelector('#df-d1ddaf04-7ea3-4288-8c4f-65c1c6f8613c');\n",
              "          const dataTable =\n",
              "            await google.colab.kernel.invokeFunction('convertToInteractive',\n",
              "                                                     [key], {});\n",
              "          if (!dataTable) return;\n",
              "\n",
              "          const docLinkHtml = 'Like what you see? Visit the ' +\n",
              "            '<a target=\"_blank\" href=https://colab.research.google.com/notebooks/data_table.ipynb>data table notebook</a>'\n",
              "            + ' to learn more about interactive tables.';\n",
              "          element.innerHTML = '';\n",
              "          dataTable['output_type'] = 'display_data';\n",
              "          await google.colab.output.renderOutput(dataTable, element);\n",
              "          const docLink = document.createElement('div');\n",
              "          docLink.innerHTML = docLinkHtml;\n",
              "          element.appendChild(docLink);\n",
              "        }\n",
              "      </script>\n",
              "    </div>\n",
              "  </div>\n",
              "  "
            ]
          },
          "metadata": {},
          "execution_count": 106
        }
      ],
      "source": [
        "data.head()"
      ]
    },
    {
      "cell_type": "code",
      "source": [
        "data.tail()"
      ],
      "metadata": {
        "colab": {
          "base_uri": "https://localhost:8080/",
          "height": 206
        },
        "id": "UeuT4R7-B-2h",
        "outputId": "4c2b2bf0-b138-4437-9afa-ab0ba5b4639c"
      },
      "execution_count": 107,
      "outputs": [
        {
          "output_type": "execute_result",
          "data": {
            "text/plain": [
              "      age     sex    bmi  children smoker     region      charges\n",
              "1333   50    male  30.97         3     no  northwest  10600.54830\n",
              "1334   52  female  46.75         5     no  southeast  12592.53450\n",
              "1335   54  female  47.41         0    yes  southeast  63770.42801\n",
              "1336   37  female  47.60         2    yes  southwest  46113.51100\n",
              "1337   46  female  48.07         2     no  northeast   9432.92530"
            ],
            "text/html": [
              "\n",
              "  <div id=\"df-d992b572-c9be-4ff8-a83c-e37249698aa3\">\n",
              "    <div class=\"colab-df-container\">\n",
              "      <div>\n",
              "<style scoped>\n",
              "    .dataframe tbody tr th:only-of-type {\n",
              "        vertical-align: middle;\n",
              "    }\n",
              "\n",
              "    .dataframe tbody tr th {\n",
              "        vertical-align: top;\n",
              "    }\n",
              "\n",
              "    .dataframe thead th {\n",
              "        text-align: right;\n",
              "    }\n",
              "</style>\n",
              "<table border=\"1\" class=\"dataframe\">\n",
              "  <thead>\n",
              "    <tr style=\"text-align: right;\">\n",
              "      <th></th>\n",
              "      <th>age</th>\n",
              "      <th>sex</th>\n",
              "      <th>bmi</th>\n",
              "      <th>children</th>\n",
              "      <th>smoker</th>\n",
              "      <th>region</th>\n",
              "      <th>charges</th>\n",
              "    </tr>\n",
              "  </thead>\n",
              "  <tbody>\n",
              "    <tr>\n",
              "      <th>1333</th>\n",
              "      <td>50</td>\n",
              "      <td>male</td>\n",
              "      <td>30.97</td>\n",
              "      <td>3</td>\n",
              "      <td>no</td>\n",
              "      <td>northwest</td>\n",
              "      <td>10600.54830</td>\n",
              "    </tr>\n",
              "    <tr>\n",
              "      <th>1334</th>\n",
              "      <td>52</td>\n",
              "      <td>female</td>\n",
              "      <td>46.75</td>\n",
              "      <td>5</td>\n",
              "      <td>no</td>\n",
              "      <td>southeast</td>\n",
              "      <td>12592.53450</td>\n",
              "    </tr>\n",
              "    <tr>\n",
              "      <th>1335</th>\n",
              "      <td>54</td>\n",
              "      <td>female</td>\n",
              "      <td>47.41</td>\n",
              "      <td>0</td>\n",
              "      <td>yes</td>\n",
              "      <td>southeast</td>\n",
              "      <td>63770.42801</td>\n",
              "    </tr>\n",
              "    <tr>\n",
              "      <th>1336</th>\n",
              "      <td>37</td>\n",
              "      <td>female</td>\n",
              "      <td>47.60</td>\n",
              "      <td>2</td>\n",
              "      <td>yes</td>\n",
              "      <td>southwest</td>\n",
              "      <td>46113.51100</td>\n",
              "    </tr>\n",
              "    <tr>\n",
              "      <th>1337</th>\n",
              "      <td>46</td>\n",
              "      <td>female</td>\n",
              "      <td>48.07</td>\n",
              "      <td>2</td>\n",
              "      <td>no</td>\n",
              "      <td>northeast</td>\n",
              "      <td>9432.92530</td>\n",
              "    </tr>\n",
              "  </tbody>\n",
              "</table>\n",
              "</div>\n",
              "      <button class=\"colab-df-convert\" onclick=\"convertToInteractive('df-d992b572-c9be-4ff8-a83c-e37249698aa3')\"\n",
              "              title=\"Convert this dataframe to an interactive table.\"\n",
              "              style=\"display:none;\">\n",
              "        \n",
              "  <svg xmlns=\"http://www.w3.org/2000/svg\" height=\"24px\"viewBox=\"0 0 24 24\"\n",
              "       width=\"24px\">\n",
              "    <path d=\"M0 0h24v24H0V0z\" fill=\"none\"/>\n",
              "    <path d=\"M18.56 5.44l.94 2.06.94-2.06 2.06-.94-2.06-.94-.94-2.06-.94 2.06-2.06.94zm-11 1L8.5 8.5l.94-2.06 2.06-.94-2.06-.94L8.5 2.5l-.94 2.06-2.06.94zm10 10l.94 2.06.94-2.06 2.06-.94-2.06-.94-.94-2.06-.94 2.06-2.06.94z\"/><path d=\"M17.41 7.96l-1.37-1.37c-.4-.4-.92-.59-1.43-.59-.52 0-1.04.2-1.43.59L10.3 9.45l-7.72 7.72c-.78.78-.78 2.05 0 2.83L4 21.41c.39.39.9.59 1.41.59.51 0 1.02-.2 1.41-.59l7.78-7.78 2.81-2.81c.8-.78.8-2.07 0-2.86zM5.41 20L4 18.59l7.72-7.72 1.47 1.35L5.41 20z\"/>\n",
              "  </svg>\n",
              "      </button>\n",
              "      \n",
              "  <style>\n",
              "    .colab-df-container {\n",
              "      display:flex;\n",
              "      flex-wrap:wrap;\n",
              "      gap: 12px;\n",
              "    }\n",
              "\n",
              "    .colab-df-convert {\n",
              "      background-color: #E8F0FE;\n",
              "      border: none;\n",
              "      border-radius: 50%;\n",
              "      cursor: pointer;\n",
              "      display: none;\n",
              "      fill: #1967D2;\n",
              "      height: 32px;\n",
              "      padding: 0 0 0 0;\n",
              "      width: 32px;\n",
              "    }\n",
              "\n",
              "    .colab-df-convert:hover {\n",
              "      background-color: #E2EBFA;\n",
              "      box-shadow: 0px 1px 2px rgba(60, 64, 67, 0.3), 0px 1px 3px 1px rgba(60, 64, 67, 0.15);\n",
              "      fill: #174EA6;\n",
              "    }\n",
              "\n",
              "    [theme=dark] .colab-df-convert {\n",
              "      background-color: #3B4455;\n",
              "      fill: #D2E3FC;\n",
              "    }\n",
              "\n",
              "    [theme=dark] .colab-df-convert:hover {\n",
              "      background-color: #434B5C;\n",
              "      box-shadow: 0px 1px 3px 1px rgba(0, 0, 0, 0.15);\n",
              "      filter: drop-shadow(0px 1px 2px rgba(0, 0, 0, 0.3));\n",
              "      fill: #FFFFFF;\n",
              "    }\n",
              "  </style>\n",
              "\n",
              "      <script>\n",
              "        const buttonEl =\n",
              "          document.querySelector('#df-d992b572-c9be-4ff8-a83c-e37249698aa3 button.colab-df-convert');\n",
              "        buttonEl.style.display =\n",
              "          google.colab.kernel.accessAllowed ? 'block' : 'none';\n",
              "\n",
              "        async function convertToInteractive(key) {\n",
              "          const element = document.querySelector('#df-d992b572-c9be-4ff8-a83c-e37249698aa3');\n",
              "          const dataTable =\n",
              "            await google.colab.kernel.invokeFunction('convertToInteractive',\n",
              "                                                     [key], {});\n",
              "          if (!dataTable) return;\n",
              "\n",
              "          const docLinkHtml = 'Like what you see? Visit the ' +\n",
              "            '<a target=\"_blank\" href=https://colab.research.google.com/notebooks/data_table.ipynb>data table notebook</a>'\n",
              "            + ' to learn more about interactive tables.';\n",
              "          element.innerHTML = '';\n",
              "          dataTable['output_type'] = 'display_data';\n",
              "          await google.colab.output.renderOutput(dataTable, element);\n",
              "          const docLink = document.createElement('div');\n",
              "          docLink.innerHTML = docLinkHtml;\n",
              "          element.appendChild(docLink);\n",
              "        }\n",
              "      </script>\n",
              "    </div>\n",
              "  </div>\n",
              "  "
            ]
          },
          "metadata": {},
          "execution_count": 107
        }
      ]
    },
    {
      "cell_type": "code",
      "source": [
        "data.info()"
      ],
      "metadata": {
        "colab": {
          "base_uri": "https://localhost:8080/"
        },
        "id": "veeCCj4PFmzI",
        "outputId": "0cbf26f5-d206-43b7-d8dd-4287e64d280a"
      },
      "execution_count": 108,
      "outputs": [
        {
          "output_type": "stream",
          "name": "stdout",
          "text": [
            "<class 'pandas.core.frame.DataFrame'>\n",
            "RangeIndex: 1338 entries, 0 to 1337\n",
            "Data columns (total 7 columns):\n",
            " #   Column    Non-Null Count  Dtype  \n",
            "---  ------    --------------  -----  \n",
            " 0   age       1338 non-null   int64  \n",
            " 1   sex       1338 non-null   object \n",
            " 2   bmi       1338 non-null   float64\n",
            " 3   children  1338 non-null   int64  \n",
            " 4   smoker    1338 non-null   object \n",
            " 5   region    1338 non-null   object \n",
            " 6   charges   1338 non-null   float64\n",
            "dtypes: float64(2), int64(2), object(3)\n",
            "memory usage: 73.3+ KB\n"
          ]
        }
      ]
    },
    {
      "cell_type": "markdown",
      "source": [
        "There are 4 integer type columns and 3 object type columns. "
      ],
      "metadata": {
        "id": "xNlzWVnvFxD7"
      }
    },
    {
      "cell_type": "code",
      "source": [
        "data.describe().T"
      ],
      "metadata": {
        "colab": {
          "base_uri": "https://localhost:8080/",
          "height": 175
        },
        "id": "SZ6x4UAoDS6q",
        "outputId": "18427979-61a8-4577-ad8a-14e57b5eb750"
      },
      "execution_count": 109,
      "outputs": [
        {
          "output_type": "execute_result",
          "data": {
            "text/plain": [
              "           count          mean           std        min         25%       50%  \\\n",
              "age       1338.0     39.207025     14.049960    18.0000    27.00000    39.000   \n",
              "bmi       1338.0     30.682687      6.145674    14.0000    26.31500    30.400   \n",
              "children  1338.0      1.094918      1.205493     0.0000     0.00000     1.000   \n",
              "charges   1338.0  13270.422265  12110.011237  1121.8739  4740.28715  9382.033   \n",
              "\n",
              "                   75%          max  \n",
              "age          51.000000     64.00000  \n",
              "bmi          34.700000     53.13000  \n",
              "children      2.000000      5.00000  \n",
              "charges   16639.912515  63770.42801  "
            ],
            "text/html": [
              "\n",
              "  <div id=\"df-3720f2ef-ab01-4384-ac80-51e7acb347b1\">\n",
              "    <div class=\"colab-df-container\">\n",
              "      <div>\n",
              "<style scoped>\n",
              "    .dataframe tbody tr th:only-of-type {\n",
              "        vertical-align: middle;\n",
              "    }\n",
              "\n",
              "    .dataframe tbody tr th {\n",
              "        vertical-align: top;\n",
              "    }\n",
              "\n",
              "    .dataframe thead th {\n",
              "        text-align: right;\n",
              "    }\n",
              "</style>\n",
              "<table border=\"1\" class=\"dataframe\">\n",
              "  <thead>\n",
              "    <tr style=\"text-align: right;\">\n",
              "      <th></th>\n",
              "      <th>count</th>\n",
              "      <th>mean</th>\n",
              "      <th>std</th>\n",
              "      <th>min</th>\n",
              "      <th>25%</th>\n",
              "      <th>50%</th>\n",
              "      <th>75%</th>\n",
              "      <th>max</th>\n",
              "    </tr>\n",
              "  </thead>\n",
              "  <tbody>\n",
              "    <tr>\n",
              "      <th>age</th>\n",
              "      <td>1338.0</td>\n",
              "      <td>39.207025</td>\n",
              "      <td>14.049960</td>\n",
              "      <td>18.0000</td>\n",
              "      <td>27.00000</td>\n",
              "      <td>39.000</td>\n",
              "      <td>51.000000</td>\n",
              "      <td>64.00000</td>\n",
              "    </tr>\n",
              "    <tr>\n",
              "      <th>bmi</th>\n",
              "      <td>1338.0</td>\n",
              "      <td>30.682687</td>\n",
              "      <td>6.145674</td>\n",
              "      <td>14.0000</td>\n",
              "      <td>26.31500</td>\n",
              "      <td>30.400</td>\n",
              "      <td>34.700000</td>\n",
              "      <td>53.13000</td>\n",
              "    </tr>\n",
              "    <tr>\n",
              "      <th>children</th>\n",
              "      <td>1338.0</td>\n",
              "      <td>1.094918</td>\n",
              "      <td>1.205493</td>\n",
              "      <td>0.0000</td>\n",
              "      <td>0.00000</td>\n",
              "      <td>1.000</td>\n",
              "      <td>2.000000</td>\n",
              "      <td>5.00000</td>\n",
              "    </tr>\n",
              "    <tr>\n",
              "      <th>charges</th>\n",
              "      <td>1338.0</td>\n",
              "      <td>13270.422265</td>\n",
              "      <td>12110.011237</td>\n",
              "      <td>1121.8739</td>\n",
              "      <td>4740.28715</td>\n",
              "      <td>9382.033</td>\n",
              "      <td>16639.912515</td>\n",
              "      <td>63770.42801</td>\n",
              "    </tr>\n",
              "  </tbody>\n",
              "</table>\n",
              "</div>\n",
              "      <button class=\"colab-df-convert\" onclick=\"convertToInteractive('df-3720f2ef-ab01-4384-ac80-51e7acb347b1')\"\n",
              "              title=\"Convert this dataframe to an interactive table.\"\n",
              "              style=\"display:none;\">\n",
              "        \n",
              "  <svg xmlns=\"http://www.w3.org/2000/svg\" height=\"24px\"viewBox=\"0 0 24 24\"\n",
              "       width=\"24px\">\n",
              "    <path d=\"M0 0h24v24H0V0z\" fill=\"none\"/>\n",
              "    <path d=\"M18.56 5.44l.94 2.06.94-2.06 2.06-.94-2.06-.94-.94-2.06-.94 2.06-2.06.94zm-11 1L8.5 8.5l.94-2.06 2.06-.94-2.06-.94L8.5 2.5l-.94 2.06-2.06.94zm10 10l.94 2.06.94-2.06 2.06-.94-2.06-.94-.94-2.06-.94 2.06-2.06.94z\"/><path d=\"M17.41 7.96l-1.37-1.37c-.4-.4-.92-.59-1.43-.59-.52 0-1.04.2-1.43.59L10.3 9.45l-7.72 7.72c-.78.78-.78 2.05 0 2.83L4 21.41c.39.39.9.59 1.41.59.51 0 1.02-.2 1.41-.59l7.78-7.78 2.81-2.81c.8-.78.8-2.07 0-2.86zM5.41 20L4 18.59l7.72-7.72 1.47 1.35L5.41 20z\"/>\n",
              "  </svg>\n",
              "      </button>\n",
              "      \n",
              "  <style>\n",
              "    .colab-df-container {\n",
              "      display:flex;\n",
              "      flex-wrap:wrap;\n",
              "      gap: 12px;\n",
              "    }\n",
              "\n",
              "    .colab-df-convert {\n",
              "      background-color: #E8F0FE;\n",
              "      border: none;\n",
              "      border-radius: 50%;\n",
              "      cursor: pointer;\n",
              "      display: none;\n",
              "      fill: #1967D2;\n",
              "      height: 32px;\n",
              "      padding: 0 0 0 0;\n",
              "      width: 32px;\n",
              "    }\n",
              "\n",
              "    .colab-df-convert:hover {\n",
              "      background-color: #E2EBFA;\n",
              "      box-shadow: 0px 1px 2px rgba(60, 64, 67, 0.3), 0px 1px 3px 1px rgba(60, 64, 67, 0.15);\n",
              "      fill: #174EA6;\n",
              "    }\n",
              "\n",
              "    [theme=dark] .colab-df-convert {\n",
              "      background-color: #3B4455;\n",
              "      fill: #D2E3FC;\n",
              "    }\n",
              "\n",
              "    [theme=dark] .colab-df-convert:hover {\n",
              "      background-color: #434B5C;\n",
              "      box-shadow: 0px 1px 3px 1px rgba(0, 0, 0, 0.15);\n",
              "      filter: drop-shadow(0px 1px 2px rgba(0, 0, 0, 0.3));\n",
              "      fill: #FFFFFF;\n",
              "    }\n",
              "  </style>\n",
              "\n",
              "      <script>\n",
              "        const buttonEl =\n",
              "          document.querySelector('#df-3720f2ef-ab01-4384-ac80-51e7acb347b1 button.colab-df-convert');\n",
              "        buttonEl.style.display =\n",
              "          google.colab.kernel.accessAllowed ? 'block' : 'none';\n",
              "\n",
              "        async function convertToInteractive(key) {\n",
              "          const element = document.querySelector('#df-3720f2ef-ab01-4384-ac80-51e7acb347b1');\n",
              "          const dataTable =\n",
              "            await google.colab.kernel.invokeFunction('convertToInteractive',\n",
              "                                                     [key], {});\n",
              "          if (!dataTable) return;\n",
              "\n",
              "          const docLinkHtml = 'Like what you see? Visit the ' +\n",
              "            '<a target=\"_blank\" href=https://colab.research.google.com/notebooks/data_table.ipynb>data table notebook</a>'\n",
              "            + ' to learn more about interactive tables.';\n",
              "          element.innerHTML = '';\n",
              "          dataTable['output_type'] = 'display_data';\n",
              "          await google.colab.output.renderOutput(dataTable, element);\n",
              "          const docLink = document.createElement('div');\n",
              "          docLink.innerHTML = docLinkHtml;\n",
              "          element.appendChild(docLink);\n",
              "        }\n",
              "      </script>\n",
              "    </div>\n",
              "  </div>\n",
              "  "
            ]
          },
          "metadata": {},
          "execution_count": 109
        }
      ]
    },
    {
      "cell_type": "code",
      "source": [
        "data.describe(include = ['object']).T"
      ],
      "metadata": {
        "colab": {
          "base_uri": "https://localhost:8080/",
          "height": 143
        },
        "id": "OCgM4S-qDxhM",
        "outputId": "0bb52adb-0d2b-4edf-8f47-aafbb0ef9dc8"
      },
      "execution_count": 110,
      "outputs": [
        {
          "output_type": "execute_result",
          "data": {
            "text/plain": [
              "       count unique        top  freq\n",
              "sex     1338      2       male   676\n",
              "smoker  1338      2         no  1064\n",
              "region  1338      4  southeast   364"
            ],
            "text/html": [
              "\n",
              "  <div id=\"df-10ca369b-4390-4726-83fc-c240f45e26ee\">\n",
              "    <div class=\"colab-df-container\">\n",
              "      <div>\n",
              "<style scoped>\n",
              "    .dataframe tbody tr th:only-of-type {\n",
              "        vertical-align: middle;\n",
              "    }\n",
              "\n",
              "    .dataframe tbody tr th {\n",
              "        vertical-align: top;\n",
              "    }\n",
              "\n",
              "    .dataframe thead th {\n",
              "        text-align: right;\n",
              "    }\n",
              "</style>\n",
              "<table border=\"1\" class=\"dataframe\">\n",
              "  <thead>\n",
              "    <tr style=\"text-align: right;\">\n",
              "      <th></th>\n",
              "      <th>count</th>\n",
              "      <th>unique</th>\n",
              "      <th>top</th>\n",
              "      <th>freq</th>\n",
              "    </tr>\n",
              "  </thead>\n",
              "  <tbody>\n",
              "    <tr>\n",
              "      <th>sex</th>\n",
              "      <td>1338</td>\n",
              "      <td>2</td>\n",
              "      <td>male</td>\n",
              "      <td>676</td>\n",
              "    </tr>\n",
              "    <tr>\n",
              "      <th>smoker</th>\n",
              "      <td>1338</td>\n",
              "      <td>2</td>\n",
              "      <td>no</td>\n",
              "      <td>1064</td>\n",
              "    </tr>\n",
              "    <tr>\n",
              "      <th>region</th>\n",
              "      <td>1338</td>\n",
              "      <td>4</td>\n",
              "      <td>southeast</td>\n",
              "      <td>364</td>\n",
              "    </tr>\n",
              "  </tbody>\n",
              "</table>\n",
              "</div>\n",
              "      <button class=\"colab-df-convert\" onclick=\"convertToInteractive('df-10ca369b-4390-4726-83fc-c240f45e26ee')\"\n",
              "              title=\"Convert this dataframe to an interactive table.\"\n",
              "              style=\"display:none;\">\n",
              "        \n",
              "  <svg xmlns=\"http://www.w3.org/2000/svg\" height=\"24px\"viewBox=\"0 0 24 24\"\n",
              "       width=\"24px\">\n",
              "    <path d=\"M0 0h24v24H0V0z\" fill=\"none\"/>\n",
              "    <path d=\"M18.56 5.44l.94 2.06.94-2.06 2.06-.94-2.06-.94-.94-2.06-.94 2.06-2.06.94zm-11 1L8.5 8.5l.94-2.06 2.06-.94-2.06-.94L8.5 2.5l-.94 2.06-2.06.94zm10 10l.94 2.06.94-2.06 2.06-.94-2.06-.94-.94-2.06-.94 2.06-2.06.94z\"/><path d=\"M17.41 7.96l-1.37-1.37c-.4-.4-.92-.59-1.43-.59-.52 0-1.04.2-1.43.59L10.3 9.45l-7.72 7.72c-.78.78-.78 2.05 0 2.83L4 21.41c.39.39.9.59 1.41.59.51 0 1.02-.2 1.41-.59l7.78-7.78 2.81-2.81c.8-.78.8-2.07 0-2.86zM5.41 20L4 18.59l7.72-7.72 1.47 1.35L5.41 20z\"/>\n",
              "  </svg>\n",
              "      </button>\n",
              "      \n",
              "  <style>\n",
              "    .colab-df-container {\n",
              "      display:flex;\n",
              "      flex-wrap:wrap;\n",
              "      gap: 12px;\n",
              "    }\n",
              "\n",
              "    .colab-df-convert {\n",
              "      background-color: #E8F0FE;\n",
              "      border: none;\n",
              "      border-radius: 50%;\n",
              "      cursor: pointer;\n",
              "      display: none;\n",
              "      fill: #1967D2;\n",
              "      height: 32px;\n",
              "      padding: 0 0 0 0;\n",
              "      width: 32px;\n",
              "    }\n",
              "\n",
              "    .colab-df-convert:hover {\n",
              "      background-color: #E2EBFA;\n",
              "      box-shadow: 0px 1px 2px rgba(60, 64, 67, 0.3), 0px 1px 3px 1px rgba(60, 64, 67, 0.15);\n",
              "      fill: #174EA6;\n",
              "    }\n",
              "\n",
              "    [theme=dark] .colab-df-convert {\n",
              "      background-color: #3B4455;\n",
              "      fill: #D2E3FC;\n",
              "    }\n",
              "\n",
              "    [theme=dark] .colab-df-convert:hover {\n",
              "      background-color: #434B5C;\n",
              "      box-shadow: 0px 1px 3px 1px rgba(0, 0, 0, 0.15);\n",
              "      filter: drop-shadow(0px 1px 2px rgba(0, 0, 0, 0.3));\n",
              "      fill: #FFFFFF;\n",
              "    }\n",
              "  </style>\n",
              "\n",
              "      <script>\n",
              "        const buttonEl =\n",
              "          document.querySelector('#df-10ca369b-4390-4726-83fc-c240f45e26ee button.colab-df-convert');\n",
              "        buttonEl.style.display =\n",
              "          google.colab.kernel.accessAllowed ? 'block' : 'none';\n",
              "\n",
              "        async function convertToInteractive(key) {\n",
              "          const element = document.querySelector('#df-10ca369b-4390-4726-83fc-c240f45e26ee');\n",
              "          const dataTable =\n",
              "            await google.colab.kernel.invokeFunction('convertToInteractive',\n",
              "                                                     [key], {});\n",
              "          if (!dataTable) return;\n",
              "\n",
              "          const docLinkHtml = 'Like what you see? Visit the ' +\n",
              "            '<a target=\"_blank\" href=https://colab.research.google.com/notebooks/data_table.ipynb>data table notebook</a>'\n",
              "            + ' to learn more about interactive tables.';\n",
              "          element.innerHTML = '';\n",
              "          dataTable['output_type'] = 'display_data';\n",
              "          await google.colab.output.renderOutput(dataTable, element);\n",
              "          const docLink = document.createElement('div');\n",
              "          docLink.innerHTML = docLinkHtml;\n",
              "          element.appendChild(docLink);\n",
              "        }\n",
              "      </script>\n",
              "    </div>\n",
              "  </div>\n",
              "  "
            ]
          },
          "metadata": {},
          "execution_count": 110
        }
      ]
    },
    {
      "cell_type": "code",
      "source": [
        "data.value_counts()"
      ],
      "metadata": {
        "colab": {
          "base_uri": "https://localhost:8080/"
        },
        "id": "AGScVqHdD9iG",
        "outputId": "f0629f7e-10e6-4ee2-91b9-919dfb641185"
      },
      "execution_count": 111,
      "outputs": [
        {
          "output_type": "execute_result",
          "data": {
            "text/plain": [
              "age  sex     bmi     children  smoker  region     charges    \n",
              "19   male    30.590  0         no      northwest  1639.56310     2\n",
              "47   male    29.830  3         no      northwest  9620.33070     1\n",
              "48   female  25.850  3         yes     southeast  24180.93350    1\n",
              "             22.800  0         no      southwest  8269.04400     1\n",
              "47   male    47.520  1         no      southeast  8083.91980     1\n",
              "                                                                ..\n",
              "31   female  25.800  2         no      southwest  4934.70500     1\n",
              "             23.600  2         no      southwest  4931.64700     1\n",
              "             21.755  0         no      northwest  4134.08245     1\n",
              "30   male    44.220  2         no      southeast  4266.16580     1\n",
              "64   male    40.480  0         no      southeast  13831.11520    1\n",
              "Length: 1337, dtype: int64"
            ]
          },
          "metadata": {},
          "execution_count": 111
        }
      ]
    },
    {
      "cell_type": "markdown",
      "source": [
        "This also shows that there are 1337 rows in the data."
      ],
      "metadata": {
        "id": "HwA-D7OtFgAB"
      }
    },
    {
      "cell_type": "code",
      "source": [
        "data.isnull().sum"
      ],
      "metadata": {
        "colab": {
          "base_uri": "https://localhost:8080/"
        },
        "id": "VuzRmUsYGAPF",
        "outputId": "785b0575-9f7e-4233-92bf-86eb5cf03324"
      },
      "execution_count": 112,
      "outputs": [
        {
          "output_type": "execute_result",
          "data": {
            "text/plain": [
              "<bound method NDFrame._add_numeric_operations.<locals>.sum of         age    sex    bmi  children  smoker  region  charges\n",
              "0     False  False  False     False   False   False    False\n",
              "1     False  False  False     False   False   False    False\n",
              "2     False  False  False     False   False   False    False\n",
              "3     False  False  False     False   False   False    False\n",
              "4     False  False  False     False   False   False    False\n",
              "...     ...    ...    ...       ...     ...     ...      ...\n",
              "1333  False  False  False     False   False   False    False\n",
              "1334  False  False  False     False   False   False    False\n",
              "1335  False  False  False     False   False   False    False\n",
              "1336  False  False  False     False   False   False    False\n",
              "1337  False  False  False     False   False   False    False\n",
              "\n",
              "[1338 rows x 7 columns]>"
            ]
          },
          "metadata": {},
          "execution_count": 112
        }
      ]
    },
    {
      "cell_type": "code",
      "source": [
        "data.isna().sum"
      ],
      "metadata": {
        "colab": {
          "base_uri": "https://localhost:8080/"
        },
        "id": "5RrwkgDIGI0L",
        "outputId": "38586273-b1b9-4def-9fcb-30935a7db3b4"
      },
      "execution_count": 113,
      "outputs": [
        {
          "output_type": "execute_result",
          "data": {
            "text/plain": [
              "<bound method NDFrame._add_numeric_operations.<locals>.sum of         age    sex    bmi  children  smoker  region  charges\n",
              "0     False  False  False     False   False   False    False\n",
              "1     False  False  False     False   False   False    False\n",
              "2     False  False  False     False   False   False    False\n",
              "3     False  False  False     False   False   False    False\n",
              "4     False  False  False     False   False   False    False\n",
              "...     ...    ...    ...       ...     ...     ...      ...\n",
              "1333  False  False  False     False   False   False    False\n",
              "1334  False  False  False     False   False   False    False\n",
              "1335  False  False  False     False   False   False    False\n",
              "1336  False  False  False     False   False   False    False\n",
              "1337  False  False  False     False   False   False    False\n",
              "\n",
              "[1338 rows x 7 columns]>"
            ]
          },
          "metadata": {},
          "execution_count": 113
        }
      ]
    },
    {
      "cell_type": "markdown",
      "source": [
        "I believe this means that it is False that there is null or NaN values in any entry."
      ],
      "metadata": {
        "id": "iPEfCVHmGSz2"
      }
    },
    {
      "cell_type": "code",
      "source": [
        "data.duplicated().sum"
      ],
      "metadata": {
        "colab": {
          "base_uri": "https://localhost:8080/"
        },
        "id": "u3zrdmzdGtxn",
        "outputId": "3adb61f0-b4ca-428d-d3a3-891ab3d0f671"
      },
      "execution_count": 114,
      "outputs": [
        {
          "output_type": "execute_result",
          "data": {
            "text/plain": [
              "<bound method NDFrame._add_numeric_operations.<locals>.sum of 0       False\n",
              "1       False\n",
              "2       False\n",
              "3       False\n",
              "4       False\n",
              "        ...  \n",
              "1333    False\n",
              "1334    False\n",
              "1335    False\n",
              "1336    False\n",
              "1337    False\n",
              "Length: 1338, dtype: bool>"
            ]
          },
          "metadata": {},
          "execution_count": 114
        }
      ]
    },
    {
      "cell_type": "markdown",
      "source": [
        "It doesn't look like there is any duplicated rows either."
      ],
      "metadata": {
        "id": "o3W2_wzxGxx2"
      }
    },
    {
      "cell_type": "markdown",
      "metadata": {
        "id": "JZXap-el5riJ"
      },
      "source": [
        "### Univariate analysis"
      ]
    },
    {
      "cell_type": "code",
      "execution_count": 115,
      "metadata": {
        "id": "bBOUCTAV5riK"
      },
      "outputs": [],
      "source": [
        "# function to plot a boxplot and a histogram along the same scale.\n",
        "\n",
        "\n",
        "def histogram_boxplot(data, feature, figsize=(12, 7), kde=False, bins=None):\n",
        "    \"\"\"\n",
        "    Boxplot and histogram combined\n",
        "\n",
        "    data: dataframe\n",
        "    feature: dataframe column\n",
        "    figsize: size of figure (default (12,7))\n",
        "    kde: whether to show the density curve (default False)\n",
        "    bins: number of bins for histogram (default None)\n",
        "    \"\"\"\n",
        "    f2, (ax_box2, ax_hist2) = plt.subplots(\n",
        "        nrows=2,  # Number of rows of the subplot grid= 2\n",
        "        sharex=True,  # x-axis will be shared among all subplots\n",
        "        gridspec_kw={\"height_ratios\": (0.25, 0.75)},\n",
        "        figsize=figsize,\n",
        "    )  # creating the 2 subplots\n",
        "    sns.boxplot(\n",
        "        data=data, x=feature, ax=ax_box2, showmeans=True, color=\"violet\"\n",
        "    )  # boxplot will be created and a star will indicate the mean value of the column\n",
        "    sns.histplot(\n",
        "        data=data, x=feature, kde=kde, ax=ax_hist2, bins=bins, palette=\"winter\"\n",
        "    ) if bins else sns.histplot(\n",
        "        data=data, x=feature, kde=kde, ax=ax_hist2\n",
        "    )  # For histogram\n",
        "    ax_hist2.axvline(\n",
        "        data[feature].mean(), color=\"green\", linestyle=\"--\"\n",
        "    )  # Add mean to the histogram\n",
        "    ax_hist2.axvline(\n",
        "        data[feature].median(), color=\"black\", linestyle=\"-\"\n",
        "    )  # Add median to the histogram"
      ]
    },
    {
      "cell_type": "code",
      "execution_count": 116,
      "metadata": {
        "id": "DEHw2Tdl5riK"
      },
      "outputs": [],
      "source": [
        "# function to create labeled barplots\n",
        "\n",
        "\n",
        "def labeled_barplot(data, feature, perc=False, n=None):\n",
        "    \"\"\"\n",
        "    Barplot with percentage at the top\n",
        "\n",
        "    data: dataframe\n",
        "    feature: dataframe column\n",
        "    perc: whether to display percentages instead of count (default is False)\n",
        "    n: displays the top n category levels (default is None, i.e., display all levels)\n",
        "    \"\"\"\n",
        "\n",
        "    total = len(data[feature])  # length of the column\n",
        "    count = data[feature].nunique()\n",
        "    if n is None:\n",
        "        plt.figure(figsize=(count + 1, 5))\n",
        "    else:\n",
        "        plt.figure(figsize=(n + 1, 5))\n",
        "\n",
        "    plt.xticks(rotation=90, fontsize=15)\n",
        "    ax = sns.countplot(data=data, x=feature, palette=\"Paired\", order=data[feature].value_counts().index[:n].sort_values())\n",
        "\n",
        "    for p in ax.patches:\n",
        "        if perc == True:\n",
        "            label = \"{:.1f}%\".format(100 * p.get_height() / total)  # percentage of each class of the category\n",
        "        else:\n",
        "            label = p.get_height()  # count of each level of the category\n",
        "\n",
        "        x = p.get_x() + p.get_width() / 2  # width of the plot\n",
        "        y = p.get_height()  # height of the plot\n",
        "\n",
        "        ax.annotate(label, (x, y), ha=\"center\", va=\"center\", size=12, xytext=(0, 5), textcoords=\"offset points\")  # annotate the percentage\n",
        "\n",
        "    plt.show()  # show the plot"
      ]
    },
    {
      "cell_type": "code",
      "execution_count": 117,
      "metadata": {
        "colab": {
          "base_uri": "https://localhost:8080/",
          "height": 285
        },
        "id": "uA4sv9445riL",
        "outputId": "5c568477-92ba-410f-9d5c-8661fad31bbf"
      },
      "outputs": [
        {
          "output_type": "display_data",
          "data": {
            "text/plain": [
              "<Figure size 432x288 with 1 Axes>"
            ],
            "image/png": "[encoded data removed]"
          },
          "metadata": {}
        }
      ],
      "source": [
        "sns.boxplot(data=data, x='age');"
      ]
    },
    {
      "cell_type": "markdown",
      "source": [
        "Observations: Seems like ages are between 27-52. Mean age is ~39 years old."
      ],
      "metadata": {
        "id": "H1xN11gmHe7U"
      }
    },
    {
      "cell_type": "code",
      "source": [
        "sns.histplot(data=data, x='sex');"
      ],
      "metadata": {
        "colab": {
          "base_uri": "https://localhost:8080/",
          "height": 286
        },
        "id": "oEQqZpUxHf15",
        "outputId": "1a8ce1f1-0477-4262-d132-954ea79fdfb3"
      },
      "execution_count": 118,
      "outputs": [
        {
          "output_type": "display_data",
          "data": {
            "text/plain": [
              "<Figure size 432x288 with 1 Axes>"
            ],
            "image/png": "[encoded data removed]"
          },
          "metadata": {}
        }
      ]
    },
    {
      "cell_type": "markdown",
      "source": [
        "Observations: It looks like the study was set up to ensure an even number of each gender are represented."
      ],
      "metadata": {
        "id": "WopyE1UJINqO"
      }
    },
    {
      "cell_type": "code",
      "source": [
        "histogram_boxplot(data, \"bmi\")"
      ],
      "metadata": {
        "colab": {
          "base_uri": "https://localhost:8080/",
          "height": 448
        },
        "id": "Ed6_maYlItOJ",
        "outputId": "e5fa4806-9b91-4e9c-b2ba-63b57c7f1f8f"
      },
      "execution_count": 119,
      "outputs": [
        {
          "output_type": "display_data",
          "data": {
            "text/plain": [
              "<Figure size 864x504 with 2 Axes>"
            ],
            "image/png": "[encoded data removed]"
          },
          "metadata": {}
        }
      ]
    },
    {
      "cell_type": "markdown",
      "source": [
        "Observations: The BMI (Body Mass Index) ranges from 15-48 with some outliers at 50+. Mean and median are around 30."
      ],
      "metadata": {
        "id": "SsfNoI-XJnoo"
      }
    },
    {
      "cell_type": "code",
      "source": [
        "histogram_boxplot(data, \"children\")"
      ],
      "metadata": {
        "colab": {
          "base_uri": "https://localhost:8080/",
          "height": 448
        },
        "id": "X6a3oWkNJ8dl",
        "outputId": "14693f5d-b051-4258-8c12-b25cb2ba2c3c"
      },
      "execution_count": 120,
      "outputs": [
        {
          "output_type": "display_data",
          "data": {
            "text/plain": [
              "<Figure size 864x504 with 2 Axes>"
            ],
            "image/png": "[encoded data removed]"
          },
          "metadata": {}
        }
      ]
    },
    {
      "cell_type": "markdown",
      "source": [
        "Observations: Just less than half of the participants did not have any children covered by the insurance plan. The mean and median number of children is One. The highest number of children is 5."
      ],
      "metadata": {
        "id": "9_kWx-GSKR8H"
      }
    },
    {
      "cell_type": "code",
      "source": [
        "sns.countplot(data=data, x='smoker');"
      ],
      "metadata": {
        "colab": {
          "base_uri": "https://localhost:8080/",
          "height": 285
        },
        "id": "kbMIf8V8KkVZ",
        "outputId": "09e64bbc-46f0-4fce-e687-feebf1d7eaa7"
      },
      "execution_count": 121,
      "outputs": [
        {
          "output_type": "display_data",
          "data": {
            "text/plain": [
              "<Figure size 432x288 with 1 Axes>"
            ],
            "image/png": "[encoded data removed]"
          },
          "metadata": {}
        }
      ]
    },
    {
      "cell_type": "markdown",
      "source": [
        "Observations: The vast majority of the participants in this study are non-smokers. Only about 20% are smokers."
      ],
      "metadata": {
        "id": "rKG7hJ4OLGPF"
      }
    },
    {
      "cell_type": "code",
      "source": [
        "labeled_barplot(data, \"region\")"
      ],
      "metadata": {
        "colab": {
          "base_uri": "https://localhost:8080/",
          "height": 407
        },
        "id": "9rfOz4DELUwf",
        "outputId": "8ace08ba-94be-4cd7-ccff-737ab2959745"
      },
      "execution_count": 122,
      "outputs": [
        {
          "output_type": "display_data",
          "data": {
            "text/plain": [
              "<Figure size 360x360 with 1 Axes>"
            ],
            "image/png": "[encoded data removed]"
          },
          "metadata": {}
        }
      ]
    },
    {
      "cell_type": "markdown",
      "source": [
        "Observations: This study also did a good job of drawing a mostly even amount of particpants from each region."
      ],
      "metadata": {
        "id": "90lnD9F9Lai7"
      }
    },
    {
      "cell_type": "code",
      "source": [
        "sns.violinplot(data=data, x='charges');"
      ],
      "metadata": {
        "colab": {
          "base_uri": "https://localhost:8080/",
          "height": 285
        },
        "id": "q7OtCDtNLPyB",
        "outputId": "aa41f750-3dd0-436b-d398-fad8936a1266"
      },
      "execution_count": 123,
      "outputs": [
        {
          "output_type": "display_data",
          "data": {
            "text/plain": [
              "<Figure size 432x288 with 1 Axes>"
            ],
            "image/png": "[encoded data removed]"
          },
          "metadata": {}
        }
      ]
    },
    {
      "cell_type": "markdown",
      "source": [
        "Observations: The range of medical costs billed to health insurance ranges from a negative amount up to 70,000 dollars. The highest number of costs are between 5,000-18,000. The average cost is 10,000 dollars."
      ],
      "metadata": {
        "id": "rAuG0aQFMD4C"
      }
    },
    {
      "cell_type": "markdown",
      "metadata": {
        "id": "Itxp_zol5riM"
      },
      "source": [
        "### Bivariate Analysis"
      ]
    },
    {
      "cell_type": "code",
      "execution_count": 124,
      "metadata": {
        "colab": {
          "base_uri": "https://localhost:8080/",
          "height": 437
        },
        "id": "zgEGxfJh5riM",
        "outputId": "62025943-3307-4b27-832f-d4ed1131f7ae"
      },
      "outputs": [
        {
          "output_type": "display_data",
          "data": {
            "text/plain": [
              "<Figure size 432x432 with 3 Axes>"
            ],
            "image/png": "[encoded data removed]"
          },
          "metadata": {}
        }
      ],
      "source": [
        "sns.jointplot(data=data, x='age', y='sex');"
      ]
    },
    {
      "cell_type": "markdown",
      "source": [
        "This study pulled an even representation of age and gender, very evenly spread out."
      ],
      "metadata": {
        "id": "MIn8dkJmQOwL"
      }
    },
    {
      "cell_type": "code",
      "source": [
        "sns.heatmap(data=data[['age', 'children', 'bmi', 'charges']].corr());"
      ],
      "metadata": {
        "colab": {
          "base_uri": "https://localhost:8080/",
          "height": 272
        },
        "id": "IO8rp5YRRUNJ",
        "outputId": "4baf2d5d-929a-48e9-eb40-88347777c4c0"
      },
      "execution_count": 125,
      "outputs": [
        {
          "output_type": "display_data",
          "data": {
            "text/plain": [
              "<Figure size 432x288 with 2 Axes>"
            ],
            "image/png": "[encoded data removed]"
          },
          "metadata": {}
        }
      ]
    },
    {
      "cell_type": "markdown",
      "source": [
        "We don't see much correlation between any of the categories we can compare empirically."
      ],
      "metadata": {
        "id": "t4cBqShjSGxA"
      }
    },
    {
      "cell_type": "code",
      "source": [
        "plt.figure(figsize=(20,15))\n",
        "sns.scatterplot(data=data, x='age', y='charges', hue='sex');"
      ],
      "metadata": {
        "colab": {
          "base_uri": "https://localhost:8080/",
          "height": 883
        },
        "id": "u05SRjeuSNz4",
        "outputId": "4050d11e-1b35-4454-bf1a-d6657b54a12c"
      },
      "execution_count": 126,
      "outputs": [
        {
          "output_type": "display_data",
          "data": {
            "text/plain": [
              "<Figure size 1440x1080 with 1 Axes>"
            ],
            "image/png": "[encoded data removed]"
          },
          "metadata": {}
        }
      ]
    },
    {
      "cell_type": "markdown",
      "source": [
        "We can see a pretty even distribution of gender. Amount billed goes up on average with a higher age, but that most data points are under 15,000 dollars."
      ],
      "metadata": {
        "id": "8WDUveUfVNQM"
      }
    },
    {
      "cell_type": "code",
      "source": [
        "sns.boxplot(data=data, x='sex', y='charges');"
      ],
      "metadata": {
        "colab": {
          "base_uri": "https://localhost:8080/",
          "height": 285
        },
        "id": "4XS5oYE0dvkx",
        "outputId": "c4939c54-08fe-4aae-981b-7e226cb64863"
      },
      "execution_count": 127,
      "outputs": [
        {
          "output_type": "display_data",
          "data": {
            "text/plain": [
              "<Figure size 432x288 with 1 Axes>"
            ],
            "image/png": "[encoded data removed]"
          },
          "metadata": {}
        }
      ]
    },
    {
      "cell_type": "markdown",
      "source": [
        "Even though the average looks close, males have a wider, higher range of charges to health insurance."
      ],
      "metadata": {
        "id": "KZZ0pIRNfXWU"
      }
    },
    {
      "cell_type": "markdown",
      "metadata": {
        "id": "PCkSNx5o5riM"
      },
      "source": [
        "## 2. Prove(or disprove)  that the medical claims made by the people who smoke is greater than those who don't? "
      ]
    },
    {
      "cell_type": "markdown",
      "metadata": {
        "id": "OWtd-ryH5riM"
      },
      "source": [
        "### Perform Visual Analysis"
      ]
    },
    {
      "cell_type": "code",
      "source": [
        "sns.swarmplot(data=data, x='smoker', y='charges');"
      ],
      "metadata": {
        "colab": {
          "base_uri": "https://localhost:8080/",
          "height": 320
        },
        "id": "0363ub00PqYu",
        "outputId": "3f099787-8014-4b90-d3d1-50eed5dd2776"
      },
      "execution_count": 128,
      "outputs": [
        {
          "output_type": "stream",
          "name": "stderr",
          "text": [
            "/usr/local/lib/python3.7/dist-packages/seaborn/categorical.py:1296: UserWarning: 67.3% of the points cannot be placed; you may want to decrease the size of the markers or use stripplot.\n",
            "  warnings.warn(msg, UserWarning)\n"
          ]
        },
        {
          "output_type": "display_data",
          "data": {
            "text/plain": [
              "<Figure size 432x288 with 1 Axes>"
            ],
            "image/png": "[encoded data removed]"
          },
          "metadata": {}
        }
      ]
    },
    {
      "cell_type": "markdown",
      "source": [
        "Visually, it looks like smokers charge more to insurance, and none of them charge nothing to insurance."
      ],
      "metadata": {
        "id": "crN896oVX1yh"
      }
    },
    {
      "cell_type": "code",
      "source": [
        "plt.figure(figsize=(20,7))\n",
        "sns.stripplot(data=data, x='smoker', y='charges');"
      ],
      "metadata": {
        "colab": {
          "base_uri": "https://localhost:8080/",
          "height": 448
        },
        "id": "u4l1syh9TIUa",
        "outputId": "6d2306e5-4e5d-47e9-aa8e-2fc8873142cc"
      },
      "execution_count": 129,
      "outputs": [
        {
          "output_type": "display_data",
          "data": {
            "text/plain": [
              "<Figure size 1440x504 with 1 Axes>"
            ],
            "image/png": "[encoded data removed]"
          },
          "metadata": {}
        }
      ]
    },
    {
      "cell_type": "markdown",
      "source": [
        "We can see that people who smoke have higher medical costs billed to health insurance."
      ],
      "metadata": {
        "id": "5fdSbxS63esx"
      }
    },
    {
      "cell_type": "code",
      "source": [
        "sns.displot(data.charges,kde=True);"
      ],
      "metadata": {
        "colab": {
          "base_uri": "https://localhost:8080/",
          "height": 365
        },
        "id": "Sc-7oXQYQ5z4",
        "outputId": "98b59d1a-007f-4e1e-f691-49365efa9a2f"
      },
      "execution_count": 130,
      "outputs": [
        {
          "output_type": "display_data",
          "data": {
            "text/plain": [
              "<Figure size 360x360 with 1 Axes>"
            ],
            "image/png": "[encoded data removed]"
          },
          "metadata": {}
        }
      ]
    },
    {
      "cell_type": "markdown",
      "source": [
        "We can see that the charges column does have a type of normal distribution, even though it is right-skewed. This will help us when we are selecting the appropriate test."
      ],
      "metadata": {
        "id": "6kWoo79cRRis"
      }
    },
    {
      "cell_type": "markdown",
      "metadata": {
        "id": "FUQ4cxAT5riN"
      },
      "source": [
        "### Step 1: Define the null and alternate hypotheses"
      ]
    },
    {
      "cell_type": "markdown",
      "metadata": {
        "id": "nmMMimJs5riN"
      },
      "source": [
        "Null Hypothesis: There is very little difference between the amount billed to health insurance from smokers versus non-smokers.\n",
        "\n",
        "Alternate Hypothesis: The amount billed to health insurance is greater from smokers than non-smokers.\n",
        "\n"
      ]
    },
    {
      "cell_type": "markdown",
      "metadata": {
        "id": "U_4k_GPP5riN"
      },
      "source": [
        "### Step 2: Select Appropriate test"
      ]
    },
    {
      "cell_type": "markdown",
      "metadata": {
        "id": "Yxvh7OO05riN"
      },
      "source": [
        "Since we don't know the standard deviation for this test but we have two data sets to consider, we will use the two-sided t-test.\n",
        "\n",
        "Test whether T-test assumptions are satisfied or not:\n",
        "\n",
        "\n",
        "Continuous data - Yes, the amount billed to health insurance is on a continuous scale.\n",
        "\n",
        "Normally distributed populations - Yes, we can see from our EDA that even though it is skewed to the right, the charges are normally distributed.\n",
        "\n",
        "Independent populations - As we are taking random samples for two different type of users, the two samples are from two independent populations.\n",
        "\n",
        "Equal population standard deviations - We will test to see if standard deviations are nearly equal.\n",
        "\n",
        "Random sampling from the population - Yes, we are informed that the collected sample is a simple random sample.\n"
      ]
    },
    {
      "cell_type": "markdown",
      "metadata": {
        "id": "Gq1CNXOb5riO"
      },
      "source": [
        "### Step 3: Decide the significance level"
      ]
    },
    {
      "cell_type": "markdown",
      "metadata": {
        "id": "8CEQPgMG5riO"
      },
      "source": [
        "We are asked to consider a significance leve of 0.05 for all tests.\n"
      ]
    },
    {
      "cell_type": "markdown",
      "metadata": {
        "id": "966izE-m5riO"
      },
      "source": [
        "### Step 4: Collect and prepare data"
      ]
    },
    {
      "cell_type": "code",
      "source": [
        "# Set up new datasets so that we can run tests\n",
        "smoker_charges = data[data['smoker'] == 'yes']['charges']\n",
        "nonsmoker_charges = data[data['smoker'] == 'no']['charges']"
      ],
      "metadata": {
        "id": "ZUCeGuoUAL5y"
      },
      "execution_count": 131,
      "outputs": []
    },
    {
      "cell_type": "code",
      "execution_count": 132,
      "metadata": {
        "id": "C9Q2cjpx5riO",
        "colab": {
          "base_uri": "https://localhost:8080/"
        },
        "outputId": "f77d2a2b-d95e-4930-93de-d10435a8993f"
      },
      "outputs": [
        {
          "output_type": "stream",
          "name": "stdout",
          "text": [
            "The mean amount billed to medical insurance from smokers is  32050\n",
            "The mean amount billed to medical insurance from non-smokers is  8434\n"
          ]
        }
      ],
      "source": [
        "# find the sample means and sample standard deviations for the two samples\n",
        "print('The mean amount billed to medical insurance from smokers is ', round(smoker_charges.mean()))\n",
        "print('The mean amount billed to medical insurance from non-smokers is ', round(nonsmoker_charges.mean()))"
      ]
    },
    {
      "cell_type": "markdown",
      "source": [
        "We see that the average amount billed to medical insurance from smokers is quite a bit higher, more than triple what non-smokers do."
      ],
      "metadata": {
        "id": "rCUtc5QrGhQA"
      }
    },
    {
      "cell_type": "code",
      "source": [
        "print('The standard deviation of amount billed to medical insurance from smokers is ', round(smoker_charges.std(),2))\n",
        "print('The standard deviation of amount billed to medical insurance from non-smokers is ', round(nonsmoker_charges.std(),2))"
      ],
      "metadata": {
        "colab": {
          "base_uri": "https://localhost:8080/"
        },
        "id": "55hiCZufB9cb",
        "outputId": "89759eaf-b7ed-4a21-a9e3-6deb5f54e1e4"
      },
      "execution_count": 133,
      "outputs": [
        {
          "output_type": "stream",
          "name": "stdout",
          "text": [
            "The standard deviation of amount billed to medical insurance from smokers is  11541.55\n",
            "The standard deviation of amount billed to medical insurance from non-smokers is  5993.78\n"
          ]
        }
      ]
    },
    {
      "cell_type": "markdown",
      "source": [
        "Even though the smokers standard deviation is double the non-smokers, I will use this test because I believe it is the best test to measure whether there is a difference between the groups."
      ],
      "metadata": {
        "id": "S3x-CkBgErz1"
      }
    },
    {
      "cell_type": "markdown",
      "metadata": {
        "id": "HEV-Ahi6NvwK"
      },
      "source": [
        "### Step 5: Calculate the p-value"
      ]
    },
    {
      "cell_type": "markdown",
      "source": [
        "If the p-value is less than 0.05, then we reject the Null Hypothesis\n",
        "\n",
        "If the p-value is greater than 0.05, then we fail to reject the Null Hypothesis"
      ],
      "metadata": {
        "id": "bNz_VkiRHUsA"
      }
    },
    {
      "cell_type": "code",
      "execution_count": 134,
      "metadata": {
        "id": "jtVODAgX5riP"
      },
      "outputs": [],
      "source": [
        "# import the required function\n",
        "from scipy.stats import ttest_ind"
      ]
    },
    {
      "cell_type": "code",
      "source": [
        "# find the p-value\n",
        "test_stat, p_value = ttest_ind(smoker_charges, nonsmoker_charges, equal_var = False, alternative = 'greater')\n",
        "print('The p-value is', p_value)"
      ],
      "metadata": {
        "colab": {
          "base_uri": "https://localhost:8080/"
        },
        "id": "MZF_5MpjF8YV",
        "outputId": "e8b0ee83-9b66-4e8e-c5b0-be546bb9b55b"
      },
      "execution_count": 135,
      "outputs": [
        {
          "output_type": "stream",
          "name": "stdout",
          "text": [
            "The p-value is 2.94473222335849e-103\n"
          ]
        }
      ]
    },
    {
      "cell_type": "markdown",
      "metadata": {
        "id": "je0aNaPq5riP"
      },
      "source": [
        "### Step 6: Compare the p-value with $\\alpha$"
      ]
    },
    {
      "cell_type": "code",
      "source": [
        "if p_value<0.05:\n",
        "  print(f'Since the p-value {p_value} is less than the level of significance, we reject the null hypothesis.')\n",
        "else:\n",
        "  print(f'Since the p-value {p_value} is greater than the level of significance, we fail to reject the null hypothesis')"
      ],
      "metadata": {
        "colab": {
          "base_uri": "https://localhost:8080/"
        },
        "id": "Kft25rfdHRd-",
        "outputId": "1845409f-f184-4167-bdff-28b9a65aa32f"
      },
      "execution_count": 136,
      "outputs": [
        {
          "output_type": "stream",
          "name": "stdout",
          "text": [
            "Since the p-value 2.94473222335849e-103 is less than the level of significance, we reject the null hypothesis.\n"
          ]
        }
      ]
    },
    {
      "cell_type": "markdown",
      "source": [
        "We therefore REJECT that there is NO difference between the amount billed to insurance between Smokers and Non-Smokers."
      ],
      "metadata": {
        "id": "16TBTzjPIP0M"
      }
    },
    {
      "cell_type": "markdown",
      "metadata": {
        "id": "806OKpfF5riP"
      },
      "source": [
        "### Step 7:  Draw inference"
      ]
    },
    {
      "cell_type": "markdown",
      "metadata": {
        "id": "SGya3ZfU5riP"
      },
      "source": [
        "With a p-value being so low, we see that there is a large effect between the amount that smokers bill to insurance versus non-smokers.  Smokers bill ~3.8 times more medical costs to health insurance than non-smokers.\n"
      ]
    },
    {
      "cell_type": "markdown",
      "metadata": {
        "id": "8S7Xk5Zh5riQ"
      },
      "source": [
        "**A similar approach can be followed to answer the other questions.**"
      ]
    },
    {
      "cell_type": "markdown",
      "metadata": {
        "id": "kMzvh-cG5riQ"
      },
      "source": [
        "## 3. Prove (or disprove) with statistical evidence that BMI of females is different from that of males."
      ]
    },
    {
      "cell_type": "markdown",
      "metadata": {
        "id": "xikOy_YrMg7v"
      },
      "source": [
        "### Perform Visual Analysis"
      ]
    },
    {
      "cell_type": "code",
      "source": [
        "sns.violinplot(data=data, x='sex', y='bmi');"
      ],
      "metadata": {
        "colab": {
          "base_uri": "https://localhost:8080/",
          "height": 285
        },
        "id": "RSLOzI15SOcO",
        "outputId": "151907e8-5704-44b8-e728-a8aa41623519"
      },
      "execution_count": 137,
      "outputs": [
        {
          "output_type": "display_data",
          "data": {
            "text/plain": [
              "<Figure size 432x288 with 1 Axes>"
            ],
            "image/png": "[encoded data removed]"
          },
          "metadata": {}
        }
      ]
    },
    {
      "cell_type": "markdown",
      "source": [
        "According to this, the BMI between Men and Women is very similar. Both seem like normal distributions."
      ],
      "metadata": {
        "id": "sIoODdqDSgTw"
      }
    },
    {
      "cell_type": "code",
      "source": [
        "sns.displot(data.bmi,kde=True);"
      ],
      "metadata": {
        "colab": {
          "base_uri": "https://localhost:8080/",
          "height": 365
        },
        "id": "A2nwh0FgRzOc",
        "outputId": "f35cd160-ffc9-45ac-b54a-9bb70a470367"
      },
      "execution_count": 138,
      "outputs": [
        {
          "output_type": "display_data",
          "data": {
            "text/plain": [
              "<Figure size 360x360 with 1 Axes>"
            ],
            "image/png": "[encoded data removed]"
          },
          "metadata": {}
        }
      ]
    },
    {
      "cell_type": "markdown",
      "source": [
        "The BMI itself is normally distributed. We need this information when deciding which test to use."
      ],
      "metadata": {
        "id": "dfABeFBlSq2N"
      }
    },
    {
      "cell_type": "markdown",
      "metadata": {
        "id": "DDZVC2UdM4LO"
      },
      "source": [
        "### Step 1: Define the null and alternate hypotheses"
      ]
    },
    {
      "cell_type": "markdown",
      "source": [
        "Null Hypothesis: There is no difference in the BMI between females and males.\n",
        "\n",
        "Alternative Hypothesis: There is a difference between the between the BMI in females and males."
      ],
      "metadata": {
        "id": "INoShckeyghj"
      }
    },
    {
      "cell_type": "markdown",
      "metadata": {
        "id": "21tpvBkENJH9"
      },
      "source": [
        "### Step 2: Select Appropriate test"
      ]
    },
    {
      "cell_type": "markdown",
      "source": [
        "Is the variation between the BMI of females and males of concern? Test for equality of variance is the F-test.\n",
        "\n",
        "Test whether the assumptions for the F-test are satisfied or not:\n",
        "*   Continuous data - Yes, BMI is measured on a continuous scale\n",
        "*   Normally distributed populations = Yes, we can see from the visualizations  that the population BMI's are normally distributed\n",
        "*   Independent populations - Yes, men and women are independent populations\n",
        "*   Random samples - We are informed that the collected samples are simple random samples from the populations\n",
        "\n"
      ],
      "metadata": {
        "id": "tkV5A6DQ35J0"
      }
    },
    {
      "cell_type": "markdown",
      "metadata": {
        "id": "rFrudJuLNTLU"
      },
      "source": [
        "### Step 3: Decide the significance level"
      ]
    },
    {
      "cell_type": "markdown",
      "metadata": {
        "id": "fDr2NipX70XG"
      },
      "source": [
        "We are asked to consider a significance leve of 0.05 for all tests.\n"
      ]
    },
    {
      "cell_type": "markdown",
      "metadata": {
        "id": "6bU6F5tYNky-"
      },
      "source": [
        "### Step 4: Collect and prepare data"
      ]
    },
    {
      "cell_type": "code",
      "source": [
        "# create new datasets\n",
        "malebmi = data[data['sex'] == 'male']['bmi']\n",
        "femalebmi = data[data['sex'] == 'female']['bmi']"
      ],
      "metadata": {
        "id": "6OjOSrowS3iz"
      },
      "execution_count": 139,
      "outputs": []
    },
    {
      "cell_type": "code",
      "source": [
        "malebmi.head()"
      ],
      "metadata": {
        "colab": {
          "base_uri": "https://localhost:8080/"
        },
        "id": "JdmmBgWvVxo9",
        "outputId": "313b1c8e-6889-4154-cedc-259568fd1963"
      },
      "execution_count": 140,
      "outputs": [
        {
          "output_type": "execute_result",
          "data": {
            "text/plain": [
              "1    33.770\n",
              "2    33.000\n",
              "3    22.705\n",
              "4    28.880\n",
              "8    29.830\n",
              "Name: bmi, dtype: float64"
            ]
          },
          "metadata": {},
          "execution_count": 140
        }
      ]
    },
    {
      "cell_type": "code",
      "source": [
        "malebmi.describe()"
      ],
      "metadata": {
        "colab": {
          "base_uri": "https://localhost:8080/"
        },
        "id": "F-bdmAz3EerV",
        "outputId": "11d0fe34-f7b5-493a-e3d2-3e581413b9e8"
      },
      "execution_count": 141,
      "outputs": [
        {
          "output_type": "execute_result",
          "data": {
            "text/plain": [
              "count    676.000000\n",
              "mean      30.943129\n",
              "std        6.140435\n",
              "min       15.960000\n",
              "25%       26.410000\n",
              "50%       30.687500\n",
              "75%       34.992500\n",
              "max       53.130000\n",
              "Name: bmi, dtype: float64"
            ]
          },
          "metadata": {},
          "execution_count": 141
        }
      ]
    },
    {
      "cell_type": "code",
      "source": [
        "femalebmi.describe()"
      ],
      "metadata": {
        "colab": {
          "base_uri": "https://localhost:8080/"
        },
        "id": "CAC7cnZwE4br",
        "outputId": "ab4e031f-6479-4473-8092-e7d8e7a802cb"
      },
      "execution_count": 142,
      "outputs": [
        {
          "output_type": "execute_result",
          "data": {
            "text/plain": [
              "count    662.000000\n",
              "mean      30.416737\n",
              "std        6.144264\n",
              "min       14.000000\n",
              "25%       26.185000\n",
              "50%       30.115000\n",
              "75%       34.380000\n",
              "max       50.900000\n",
              "Name: bmi, dtype: float64"
            ]
          },
          "metadata": {},
          "execution_count": 142
        }
      ]
    },
    {
      "cell_type": "markdown",
      "metadata": {
        "id": "EGYNXxYr5riO"
      },
      "source": [
        "### Step 5: Calculate the p-value"
      ]
    },
    {
      "cell_type": "code",
      "source": [
        "# import correct package\n",
        "from scipy.stats import f"
      ],
      "metadata": {
        "id": "7Co666p3V4P2"
      },
      "execution_count": 143,
      "outputs": []
    },
    {
      "cell_type": "code",
      "source": [
        "# user-defined function to perform F-test\n",
        "def f_test(x, y):\n",
        "  x = np.array(x)\n",
        "  y = np.array(y)\n",
        "  test_stat = np.var(x, ddof=1)/np.var(y, ddof=1) #calculate the F test statistic\n",
        "  dfn = x.size-1 #define degrees of freedom numerator\n",
        "  dfd = y.size-1 #define degrees of freedom denominator\n",
        "  p = (1 - f.cdf(test_stat, dfn, dfd)) #find p-value of F test statistic\n",
        "  p1 = p*2 #converting one-tail to two-tail test\n",
        "  return(print(\"The p_value is {}\" .format(round(p,8))))\n",
        "\n",
        "f_test(bagweight.dropna()['malebmi'], bagweight.dropna()['femalebmi'])"
      ],
      "metadata": {
        "colab": {
          "base_uri": "https://localhost:8080/",
          "height": 201
        },
        "id": "B6ki7vwsWHmL",
        "outputId": "83da2d05-e899-42ca-c53c-0081861da099"
      },
      "execution_count": 144,
      "outputs": [
        {
          "output_type": "error",
          "ename": "NameError",
          "evalue": "ignored",
          "traceback": [
            "\u001b[0;31m---------------------------------------------------------------------------\u001b[0m",
            "\u001b[0;31mNameError\u001b[0m                                 Traceback (most recent call last)",
            "\u001b[0;32m<ipython-input-144-970dc431966a>\u001b[0m in \u001b[0;36m<module>\u001b[0;34m\u001b[0m\n\u001b[1;32m     10\u001b[0m   \u001b[0;32mreturn\u001b[0m\u001b[0;34m(\u001b[0m\u001b[0mprint\u001b[0m\u001b[0;34m(\u001b[0m\u001b[0;34m\"The p_value is {}\"\u001b[0m \u001b[0;34m.\u001b[0m\u001b[0mformat\u001b[0m\u001b[0;34m(\u001b[0m\u001b[0mround\u001b[0m\u001b[0;34m(\u001b[0m\u001b[0mp\u001b[0m\u001b[0;34m,\u001b[0m\u001b[0;36m8\u001b[0m\u001b[0;34m)\u001b[0m\u001b[0;34m)\u001b[0m\u001b[0;34m)\u001b[0m\u001b[0;34m)\u001b[0m\u001b[0;34m\u001b[0m\u001b[0;34m\u001b[0m\u001b[0m\n\u001b[1;32m     11\u001b[0m \u001b[0;34m\u001b[0m\u001b[0m\n\u001b[0;32m---> 12\u001b[0;31m \u001b[0mf_test\u001b[0m\u001b[0;34m(\u001b[0m\u001b[0mbagweight\u001b[0m\u001b[0;34m.\u001b[0m\u001b[0mdropna\u001b[0m\u001b[0;34m(\u001b[0m\u001b[0;34m)\u001b[0m\u001b[0;34m[\u001b[0m\u001b[0;34m'malebmi'\u001b[0m\u001b[0;34m]\u001b[0m\u001b[0;34m,\u001b[0m \u001b[0mbagweight\u001b[0m\u001b[0;34m.\u001b[0m\u001b[0mdropna\u001b[0m\u001b[0;34m(\u001b[0m\u001b[0;34m)\u001b[0m\u001b[0;34m[\u001b[0m\u001b[0;34m'femalebmi'\u001b[0m\u001b[0;34m]\u001b[0m\u001b[0;34m)\u001b[0m\u001b[0;34m\u001b[0m\u001b[0;34m\u001b[0m\u001b[0m\n\u001b[0m",
            "\u001b[0;31mNameError\u001b[0m: name 'bagweight' is not defined"
          ]
        }
      ]
    },
    {
      "cell_type": "code",
      "source": [
        "# find the p-value\n",
        "test_stat, p_value = f_oneway(malebmi, femalebmi)\n",
        "# print the p-value\n",
        "print('The p-value is', p_value)"
      ],
      "metadata": {
        "colab": {
          "base_uri": "https://localhost:8080/"
        },
        "outputId": "e0686937-1dce-426b-e687-d4fc5e1d5b67",
        "id": "NnxiVcX2PDEv"
      },
      "execution_count": 145,
      "outputs": [
        {
          "output_type": "stream",
          "name": "stdout",
          "text": [
            "The p-value is 0.11728314042837407\n"
          ]
        }
      ]
    },
    {
      "cell_type": "markdown",
      "source": [
        "Since I was getting errors trying to use the F test given in the video, I substituted the one-way F-Test used for ANOVA. I hope this is ok, but if not please give me feedback."
      ],
      "metadata": {
        "id": "qavowuWwL0B5"
      }
    },
    {
      "cell_type": "markdown",
      "metadata": {
        "id": "pU-j5H5dN_ri"
      },
      "source": [
        "### Step 6: Compare the p-value with $\\alpha$"
      ]
    },
    {
      "cell_type": "code",
      "source": [
        "# Compare the p-value with a\n",
        "# print the conclusion based on p-value\n",
        "if p_value<0.05:\n",
        "  print(f'As the p-value {p_value} is less than the level of significance, we reject the null hypothesis.')\n",
        "else:\n",
        "  print(f'As the p-value {p_value} is greater than the level of significance we reject the null hypothesis.')"
      ],
      "metadata": {
        "colab": {
          "base_uri": "https://localhost:8080/"
        },
        "outputId": "2dd4b886-ee72-429d-b107-59961d2f4838",
        "id": "ojT5mFWxPV0F"
      },
      "execution_count": 146,
      "outputs": [
        {
          "output_type": "stream",
          "name": "stdout",
          "text": [
            "As the p-value 0.11728314042837407 is greater than the level of significance we reject the null hypothesis.\n"
          ]
        }
      ]
    },
    {
      "cell_type": "markdown",
      "metadata": {
        "id": "beBjhuSLOGyd"
      },
      "source": [
        "### Step 7:  Draw inference"
      ]
    },
    {
      "cell_type": "markdown",
      "source": [
        "We have enough of a variance in the BMI data between Males and Females to reject the null hypothesis and say that gender does have an effect on BMI."
      ],
      "metadata": {
        "id": "m3_U-zM0Lu2o"
      }
    },
    {
      "cell_type": "markdown",
      "metadata": {
        "id": "cqCAVSeR5riQ"
      },
      "source": [
        "## 4. Does the smoking habit of customers depend on their region?\n"
      ]
    },
    {
      "cell_type": "markdown",
      "metadata": {
        "id": "Ii87g0rjMnMt"
      },
      "source": [
        "### Perform Visual Analysis"
      ]
    },
    {
      "cell_type": "code",
      "source": [
        "sns.countplot(data=data, x='region', hue='smoker');"
      ],
      "metadata": {
        "id": "CHoVqEmV9fJC",
        "colab": {
          "base_uri": "https://localhost:8080/",
          "height": 285
        },
        "outputId": "c88a00e1-392b-405d-b4de-ad73069f7435"
      },
      "execution_count": 147,
      "outputs": [
        {
          "output_type": "display_data",
          "data": {
            "text/plain": [
              "<Figure size 432x288 with 1 Axes>"
            ],
            "image/png": "[encoded data removed]"
          },
          "metadata": {}
        }
      ]
    },
    {
      "cell_type": "markdown",
      "source": [
        "It does not visually seem like any region dominates in the non-smoker columns. It looks like the Southeast has slightly more smokers than the other regions though."
      ],
      "metadata": {
        "id": "5syhYCHynqSl"
      }
    },
    {
      "cell_type": "code",
      "source": [
        "data.groupby('smoker')['region'].describe()"
      ],
      "metadata": {
        "colab": {
          "base_uri": "https://localhost:8080/",
          "height": 143
        },
        "id": "v01ZupGAncDw",
        "outputId": "398f545d-6370-4a69-f6cc-cdf9a0fbdeec"
      },
      "execution_count": 148,
      "outputs": [
        {
          "output_type": "execute_result",
          "data": {
            "text/plain": [
              "       count unique        top freq\n",
              "smoker                             \n",
              "no      1064      4  southeast  273\n",
              "yes      274      4  southeast   91"
            ],
            "text/html": [
              "\n",
              "  <div id=\"df-31e84efc-c42d-40fc-b40c-e1ed5b3f2119\">\n",
              "    <div class=\"colab-df-container\">\n",
              "      <div>\n",
              "<style scoped>\n",
              "    .dataframe tbody tr th:only-of-type {\n",
              "        vertical-align: middle;\n",
              "    }\n",
              "\n",
              "    .dataframe tbody tr th {\n",
              "        vertical-align: top;\n",
              "    }\n",
              "\n",
              "    .dataframe thead th {\n",
              "        text-align: right;\n",
              "    }\n",
              "</style>\n",
              "<table border=\"1\" class=\"dataframe\">\n",
              "  <thead>\n",
              "    <tr style=\"text-align: right;\">\n",
              "      <th></th>\n",
              "      <th>count</th>\n",
              "      <th>unique</th>\n",
              "      <th>top</th>\n",
              "      <th>freq</th>\n",
              "    </tr>\n",
              "    <tr>\n",
              "      <th>smoker</th>\n",
              "      <th></th>\n",
              "      <th></th>\n",
              "      <th></th>\n",
              "      <th></th>\n",
              "    </tr>\n",
              "  </thead>\n",
              "  <tbody>\n",
              "    <tr>\n",
              "      <th>no</th>\n",
              "      <td>1064</td>\n",
              "      <td>4</td>\n",
              "      <td>southeast</td>\n",
              "      <td>273</td>\n",
              "    </tr>\n",
              "    <tr>\n",
              "      <th>yes</th>\n",
              "      <td>274</td>\n",
              "      <td>4</td>\n",
              "      <td>southeast</td>\n",
              "      <td>91</td>\n",
              "    </tr>\n",
              "  </tbody>\n",
              "</table>\n",
              "</div>\n",
              "      <button class=\"colab-df-convert\" onclick=\"convertToInteractive('df-31e84efc-c42d-40fc-b40c-e1ed5b3f2119')\"\n",
              "              title=\"Convert this dataframe to an interactive table.\"\n",
              "              style=\"display:none;\">\n",
              "        \n",
              "  <svg xmlns=\"http://www.w3.org/2000/svg\" height=\"24px\"viewBox=\"0 0 24 24\"\n",
              "       width=\"24px\">\n",
              "    <path d=\"M0 0h24v24H0V0z\" fill=\"none\"/>\n",
              "    <path d=\"M18.56 5.44l.94 2.06.94-2.06 2.06-.94-2.06-.94-.94-2.06-.94 2.06-2.06.94zm-11 1L8.5 8.5l.94-2.06 2.06-.94-2.06-.94L8.5 2.5l-.94 2.06-2.06.94zm10 10l.94 2.06.94-2.06 2.06-.94-2.06-.94-.94-2.06-.94 2.06-2.06.94z\"/><path d=\"M17.41 7.96l-1.37-1.37c-.4-.4-.92-.59-1.43-.59-.52 0-1.04.2-1.43.59L10.3 9.45l-7.72 7.72c-.78.78-.78 2.05 0 2.83L4 21.41c.39.39.9.59 1.41.59.51 0 1.02-.2 1.41-.59l7.78-7.78 2.81-2.81c.8-.78.8-2.07 0-2.86zM5.41 20L4 18.59l7.72-7.72 1.47 1.35L5.41 20z\"/>\n",
              "  </svg>\n",
              "      </button>\n",
              "      \n",
              "  <style>\n",
              "    .colab-df-container {\n",
              "      display:flex;\n",
              "      flex-wrap:wrap;\n",
              "      gap: 12px;\n",
              "    }\n",
              "\n",
              "    .colab-df-convert {\n",
              "      background-color: #E8F0FE;\n",
              "      border: none;\n",
              "      border-radius: 50%;\n",
              "      cursor: pointer;\n",
              "      display: none;\n",
              "      fill: #1967D2;\n",
              "      height: 32px;\n",
              "      padding: 0 0 0 0;\n",
              "      width: 32px;\n",
              "    }\n",
              "\n",
              "    .colab-df-convert:hover {\n",
              "      background-color: #E2EBFA;\n",
              "      box-shadow: 0px 1px 2px rgba(60, 64, 67, 0.3), 0px 1px 3px 1px rgba(60, 64, 67, 0.15);\n",
              "      fill: #174EA6;\n",
              "    }\n",
              "\n",
              "    [theme=dark] .colab-df-convert {\n",
              "      background-color: #3B4455;\n",
              "      fill: #D2E3FC;\n",
              "    }\n",
              "\n",
              "    [theme=dark] .colab-df-convert:hover {\n",
              "      background-color: #434B5C;\n",
              "      box-shadow: 0px 1px 3px 1px rgba(0, 0, 0, 0.15);\n",
              "      filter: drop-shadow(0px 1px 2px rgba(0, 0, 0, 0.3));\n",
              "      fill: #FFFFFF;\n",
              "    }\n",
              "  </style>\n",
              "\n",
              "      <script>\n",
              "        const buttonEl =\n",
              "          document.querySelector('#df-31e84efc-c42d-40fc-b40c-e1ed5b3f2119 button.colab-df-convert');\n",
              "        buttonEl.style.display =\n",
              "          google.colab.kernel.accessAllowed ? 'block' : 'none';\n",
              "\n",
              "        async function convertToInteractive(key) {\n",
              "          const element = document.querySelector('#df-31e84efc-c42d-40fc-b40c-e1ed5b3f2119');\n",
              "          const dataTable =\n",
              "            await google.colab.kernel.invokeFunction('convertToInteractive',\n",
              "                                                     [key], {});\n",
              "          if (!dataTable) return;\n",
              "\n",
              "          const docLinkHtml = 'Like what you see? Visit the ' +\n",
              "            '<a target=\"_blank\" href=https://colab.research.google.com/notebooks/data_table.ipynb>data table notebook</a>'\n",
              "            + ' to learn more about interactive tables.';\n",
              "          element.innerHTML = '';\n",
              "          dataTable['output_type'] = 'display_data';\n",
              "          await google.colab.output.renderOutput(dataTable, element);\n",
              "          const docLink = document.createElement('div');\n",
              "          docLink.innerHTML = docLinkHtml;\n",
              "          element.appendChild(docLink);\n",
              "        }\n",
              "      </script>\n",
              "    </div>\n",
              "  </div>\n",
              "  "
            ]
          },
          "metadata": {},
          "execution_count": 148
        }
      ]
    },
    {
      "cell_type": "markdown",
      "source": [
        "Southeast has the most smokers and non-smokers, interestingly. There may be more participants from there in general. We can see that there are 1064 non-smoker counts, and 274 smoker counts, which will help us when checking to make sure the test assumptions are filled."
      ],
      "metadata": {
        "id": "2yMmCNEUn1x5"
      }
    },
    {
      "cell_type": "markdown",
      "metadata": {
        "id": "dxgAfhjdM-f3"
      },
      "source": [
        "### Step 1: Define the null and alternate hypotheses"
      ]
    },
    {
      "cell_type": "markdown",
      "source": [
        "Null Hypothesis: The smoking habits of customers does not depend on the region they live in.\n",
        "\n",
        "Alternative Hypothesis: The smoking habits of customers shows some difference (variance) depending on the region they live in."
      ],
      "metadata": {
        "id": "V1APoFrS-ECb"
      }
    },
    {
      "cell_type": "markdown",
      "metadata": {
        "id": "b-BlpR-SNLp3"
      },
      "source": [
        "### Step 2: Select Appropriate test"
      ]
    },
    {
      "cell_type": "markdown",
      "source": [
        "Chi Square Test for frequency. (or VARIANCE?)\n",
        "\n",
        "Let's check and see whether the assumptions are satisfied or not:\n",
        "\n",
        "\n",
        "*   Categorical variables - Yes, we are told only if a person smokes or not, and whether they live in a certain region, or not\n",
        "*   Each categorical variable has at least 5 entries - Yes, there are 1,064 non-smoker variables and 274 smoker variables. Each region has no less than 50 counts\n",
        "*   Random sampling from the population - We are told that these were simple random samples taken from the population\n",
        "\n"
      ],
      "metadata": {
        "id": "TxwymKJ78OHc"
      }
    },
    {
      "cell_type": "markdown",
      "metadata": {
        "id": "nThtgKTYNVJM"
      },
      "source": [
        "### Step 3: Decide the significance level"
      ]
    },
    {
      "cell_type": "markdown",
      "metadata": {
        "id": "Sm__Afef72ia"
      },
      "source": [
        "We are asked to consider a significance leve of 0.05 for all tests.\n"
      ]
    },
    {
      "cell_type": "markdown",
      "metadata": {
        "id": "VHWfZLkmNnri"
      },
      "source": [
        "### Step 4: Collect and prepare data"
      ]
    },
    {
      "cell_type": "code",
      "source": [
        "# import the required function\n",
        "from scipy.stats import chi2_contingency"
      ],
      "metadata": {
        "id": "WtjQPaLuorOy"
      },
      "execution_count": 149,
      "outputs": []
    },
    {
      "cell_type": "code",
      "source": [
        "# create a contingency table showing the distribution of two categorical variables\n",
        "contingency_table = pd.crosstab(data['region'], data['smoker'])\n",
        "contingency_table"
      ],
      "metadata": {
        "colab": {
          "base_uri": "https://localhost:8080/",
          "height": 206
        },
        "id": "tdvB6mBuo1WD",
        "outputId": "1b49c857-1a2c-430b-d923-901bfa237c16"
      },
      "execution_count": 150,
      "outputs": [
        {
          "output_type": "execute_result",
          "data": {
            "text/plain": [
              "smoker      no  yes\n",
              "region             \n",
              "northeast  257   67\n",
              "northwest  267   58\n",
              "southeast  273   91\n",
              "southwest  267   58"
            ],
            "text/html": [
              "\n",
              "  <div id=\"df-fa9c7ddb-8d72-47af-8beb-99e1478f307e\">\n",
              "    <div class=\"colab-df-container\">\n",
              "      <div>\n",
              "<style scoped>\n",
              "    .dataframe tbody tr th:only-of-type {\n",
              "        vertical-align: middle;\n",
              "    }\n",
              "\n",
              "    .dataframe tbody tr th {\n",
              "        vertical-align: top;\n",
              "    }\n",
              "\n",
              "    .dataframe thead th {\n",
              "        text-align: right;\n",
              "    }\n",
              "</style>\n",
              "<table border=\"1\" class=\"dataframe\">\n",
              "  <thead>\n",
              "    <tr style=\"text-align: right;\">\n",
              "      <th>smoker</th>\n",
              "      <th>no</th>\n",
              "      <th>yes</th>\n",
              "    </tr>\n",
              "    <tr>\n",
              "      <th>region</th>\n",
              "      <th></th>\n",
              "      <th></th>\n",
              "    </tr>\n",
              "  </thead>\n",
              "  <tbody>\n",
              "    <tr>\n",
              "      <th>northeast</th>\n",
              "      <td>257</td>\n",
              "      <td>67</td>\n",
              "    </tr>\n",
              "    <tr>\n",
              "      <th>northwest</th>\n",
              "      <td>267</td>\n",
              "      <td>58</td>\n",
              "    </tr>\n",
              "    <tr>\n",
              "      <th>southeast</th>\n",
              "      <td>273</td>\n",
              "      <td>91</td>\n",
              "    </tr>\n",
              "    <tr>\n",
              "      <th>southwest</th>\n",
              "      <td>267</td>\n",
              "      <td>58</td>\n",
              "    </tr>\n",
              "  </tbody>\n",
              "</table>\n",
              "</div>\n",
              "      <button class=\"colab-df-convert\" onclick=\"convertToInteractive('df-fa9c7ddb-8d72-47af-8beb-99e1478f307e')\"\n",
              "              title=\"Convert this dataframe to an interactive table.\"\n",
              "              style=\"display:none;\">\n",
              "        \n",
              "  <svg xmlns=\"http://www.w3.org/2000/svg\" height=\"24px\"viewBox=\"0 0 24 24\"\n",
              "       width=\"24px\">\n",
              "    <path d=\"M0 0h24v24H0V0z\" fill=\"none\"/>\n",
              "    <path d=\"M18.56 5.44l.94 2.06.94-2.06 2.06-.94-2.06-.94-.94-2.06-.94 2.06-2.06.94zm-11 1L8.5 8.5l.94-2.06 2.06-.94-2.06-.94L8.5 2.5l-.94 2.06-2.06.94zm10 10l.94 2.06.94-2.06 2.06-.94-2.06-.94-.94-2.06-.94 2.06-2.06.94z\"/><path d=\"M17.41 7.96l-1.37-1.37c-.4-.4-.92-.59-1.43-.59-.52 0-1.04.2-1.43.59L10.3 9.45l-7.72 7.72c-.78.78-.78 2.05 0 2.83L4 21.41c.39.39.9.59 1.41.59.51 0 1.02-.2 1.41-.59l7.78-7.78 2.81-2.81c.8-.78.8-2.07 0-2.86zM5.41 20L4 18.59l7.72-7.72 1.47 1.35L5.41 20z\"/>\n",
              "  </svg>\n",
              "      </button>\n",
              "      \n",
              "  <style>\n",
              "    .colab-df-container {\n",
              "      display:flex;\n",
              "      flex-wrap:wrap;\n",
              "      gap: 12px;\n",
              "    }\n",
              "\n",
              "    .colab-df-convert {\n",
              "      background-color: #E8F0FE;\n",
              "      border: none;\n",
              "      border-radius: 50%;\n",
              "      cursor: pointer;\n",
              "      display: none;\n",
              "      fill: #1967D2;\n",
              "      height: 32px;\n",
              "      padding: 0 0 0 0;\n",
              "      width: 32px;\n",
              "    }\n",
              "\n",
              "    .colab-df-convert:hover {\n",
              "      background-color: #E2EBFA;\n",
              "      box-shadow: 0px 1px 2px rgba(60, 64, 67, 0.3), 0px 1px 3px 1px rgba(60, 64, 67, 0.15);\n",
              "      fill: #174EA6;\n",
              "    }\n",
              "\n",
              "    [theme=dark] .colab-df-convert {\n",
              "      background-color: #3B4455;\n",
              "      fill: #D2E3FC;\n",
              "    }\n",
              "\n",
              "    [theme=dark] .colab-df-convert:hover {\n",
              "      background-color: #434B5C;\n",
              "      box-shadow: 0px 1px 3px 1px rgba(0, 0, 0, 0.15);\n",
              "      filter: drop-shadow(0px 1px 2px rgba(0, 0, 0, 0.3));\n",
              "      fill: #FFFFFF;\n",
              "    }\n",
              "  </style>\n",
              "\n",
              "      <script>\n",
              "        const buttonEl =\n",
              "          document.querySelector('#df-fa9c7ddb-8d72-47af-8beb-99e1478f307e button.colab-df-convert');\n",
              "        buttonEl.style.display =\n",
              "          google.colab.kernel.accessAllowed ? 'block' : 'none';\n",
              "\n",
              "        async function convertToInteractive(key) {\n",
              "          const element = document.querySelector('#df-fa9c7ddb-8d72-47af-8beb-99e1478f307e');\n",
              "          const dataTable =\n",
              "            await google.colab.kernel.invokeFunction('convertToInteractive',\n",
              "                                                     [key], {});\n",
              "          if (!dataTable) return;\n",
              "\n",
              "          const docLinkHtml = 'Like what you see? Visit the ' +\n",
              "            '<a target=\"_blank\" href=https://colab.research.google.com/notebooks/data_table.ipynb>data table notebook</a>'\n",
              "            + ' to learn more about interactive tables.';\n",
              "          element.innerHTML = '';\n",
              "          dataTable['output_type'] = 'display_data';\n",
              "          await google.colab.output.renderOutput(dataTable, element);\n",
              "          const docLink = document.createElement('div');\n",
              "          docLink.innerHTML = docLinkHtml;\n",
              "          element.appendChild(docLink);\n",
              "        }\n",
              "      </script>\n",
              "    </div>\n",
              "  </div>\n",
              "  "
            ]
          },
          "metadata": {},
          "execution_count": 150
        }
      ]
    },
    {
      "cell_type": "markdown",
      "metadata": {
        "id": "GrlodKI2N6c2"
      },
      "source": [
        "### Step 5: Calculate the p-value"
      ]
    },
    {
      "cell_type": "code",
      "source": [
        "# find the p-value\n",
        "chi_2, p_value, dof, exp_freq = chi2_contingency(contingency_table)\n",
        "# print the p-value\n",
        "print('The p-value is', p_value)"
      ],
      "metadata": {
        "colab": {
          "base_uri": "https://localhost:8080/"
        },
        "id": "5G_qq6fWpwoZ",
        "outputId": "7f526731-500b-4c60-9576-f2dc07cd6c69"
      },
      "execution_count": 151,
      "outputs": [
        {
          "output_type": "stream",
          "name": "stdout",
          "text": [
            "The p-value is 0.06171954839170541\n"
          ]
        }
      ]
    },
    {
      "cell_type": "markdown",
      "metadata": {
        "id": "5TFiOIBHOCTw"
      },
      "source": [
        "### Step 6: Compare the p-value with $\\alpha$"
      ]
    },
    {
      "cell_type": "code",
      "source": [
        "# Compare the p-value with a\n",
        "# print the conclusion based on p-value\n",
        "if p_value<0.05:\n",
        "  print(f'As the p-value {p_value} is less than the level of significance, we reject the null hypothesis.')\n",
        "else:\n",
        "  print(f'As the p-value {p_value} is greater than the level of significance we reject the null hypothesis.')"
      ],
      "metadata": {
        "colab": {
          "base_uri": "https://localhost:8080/"
        },
        "id": "xVHK4_leqQHS",
        "outputId": "e76dafb0-50f0-4a04-95f4-1696ffe64f55"
      },
      "execution_count": 152,
      "outputs": [
        {
          "output_type": "stream",
          "name": "stdout",
          "text": [
            "As the p-value 0.06171954839170541 is greater than the level of significance we reject the null hypothesis.\n"
          ]
        }
      ]
    },
    {
      "cell_type": "markdown",
      "source": [
        "Since our p-value is high, we reject the null hypothsis, which leads us to believe that there is some relationship between which region a person lives in and whether they smoke or not."
      ],
      "metadata": {
        "id": "-Q8BlLdtMml_"
      }
    },
    {
      "cell_type": "markdown",
      "metadata": {
        "id": "1vhJxySaOI5I"
      },
      "source": [
        "### Step 7:  Draw inference"
      ]
    },
    {
      "cell_type": "markdown",
      "source": [
        "Since we are rejecting the null hypothesis, we see that there may be some correlation between which region a person lives in and whether they smoke or not. Based on the visual analysis, it doesn't seem to affect non-smokers, just smokers.  The highest amount of smokers live in the Southeast."
      ],
      "metadata": {
        "id": "jObvNREvrm1y"
      }
    },
    {
      "cell_type": "markdown",
      "metadata": {
        "id": "PGMGzZY05riQ"
      },
      "source": [
        "## 5.\tIs the mean BMI of women with no children, one child and two children the same? Explain your answer with statistical evidence."
      ]
    },
    {
      "cell_type": "markdown",
      "metadata": {
        "id": "WG8sgblzMquQ"
      },
      "source": [
        "### Perform Visual Analysis"
      ]
    },
    {
      "cell_type": "code",
      "source": [
        "data.groupby(['children'])['bmi'].describe()"
      ],
      "metadata": {
        "colab": {
          "base_uri": "https://localhost:8080/",
          "height": 269
        },
        "id": "CiyWiQjB5-0o",
        "outputId": "f71cafa9-0b25-4cbd-adc2-f2e307b92150"
      },
      "execution_count": 153,
      "outputs": [
        {
          "output_type": "execute_result",
          "data": {
            "text/plain": [
              "          count       mean       std     min       25%     50%      75%    max\n",
              "children                                                                      \n",
              "0         574.0  30.612718  6.110222  15.960  26.22000  30.380  34.7925  53.13\n",
              "1         324.0  30.620633  6.107310  16.000  26.61500  30.015  34.2375  52.58\n",
              "2         240.0  30.939750  6.596120  14.000  25.78625  31.640  35.3575  48.07\n",
              "3         157.0  30.684331  5.787173  18.905  27.26500  30.495  34.3200  46.53\n",
              "4          25.0  31.391200  4.627211  24.415  28.21500  29.640  33.6600  41.47\n",
              "5          18.0  29.605000  7.139686  18.300  24.30250  28.550  33.0550  46.75"
            ],
            "text/html": [
              "\n",
              "  <div id=\"df-dcd356ca-db0b-4142-9780-c8ea7fedffbd\">\n",
              "    <div class=\"colab-df-container\">\n",
              "      <div>\n",
              "<style scoped>\n",
              "    .dataframe tbody tr th:only-of-type {\n",
              "        vertical-align: middle;\n",
              "    }\n",
              "\n",
              "    .dataframe tbody tr th {\n",
              "        vertical-align: top;\n",
              "    }\n",
              "\n",
              "    .dataframe thead th {\n",
              "        text-align: right;\n",
              "    }\n",
              "</style>\n",
              "<table border=\"1\" class=\"dataframe\">\n",
              "  <thead>\n",
              "    <tr style=\"text-align: right;\">\n",
              "      <th></th>\n",
              "      <th>count</th>\n",
              "      <th>mean</th>\n",
              "      <th>std</th>\n",
              "      <th>min</th>\n",
              "      <th>25%</th>\n",
              "      <th>50%</th>\n",
              "      <th>75%</th>\n",
              "      <th>max</th>\n",
              "    </tr>\n",
              "    <tr>\n",
              "      <th>children</th>\n",
              "      <th></th>\n",
              "      <th></th>\n",
              "      <th></th>\n",
              "      <th></th>\n",
              "      <th></th>\n",
              "      <th></th>\n",
              "      <th></th>\n",
              "      <th></th>\n",
              "    </tr>\n",
              "  </thead>\n",
              "  <tbody>\n",
              "    <tr>\n",
              "      <th>0</th>\n",
              "      <td>574.0</td>\n",
              "      <td>30.612718</td>\n",
              "      <td>6.110222</td>\n",
              "      <td>15.960</td>\n",
              "      <td>26.22000</td>\n",
              "      <td>30.380</td>\n",
              "      <td>34.7925</td>\n",
              "      <td>53.13</td>\n",
              "    </tr>\n",
              "    <tr>\n",
              "      <th>1</th>\n",
              "      <td>324.0</td>\n",
              "      <td>30.620633</td>\n",
              "      <td>6.107310</td>\n",
              "      <td>16.000</td>\n",
              "      <td>26.61500</td>\n",
              "      <td>30.015</td>\n",
              "      <td>34.2375</td>\n",
              "      <td>52.58</td>\n",
              "    </tr>\n",
              "    <tr>\n",
              "      <th>2</th>\n",
              "      <td>240.0</td>\n",
              "      <td>30.939750</td>\n",
              "      <td>6.596120</td>\n",
              "      <td>14.000</td>\n",
              "      <td>25.78625</td>\n",
              "      <td>31.640</td>\n",
              "      <td>35.3575</td>\n",
              "      <td>48.07</td>\n",
              "    </tr>\n",
              "    <tr>\n",
              "      <th>3</th>\n",
              "      <td>157.0</td>\n",
              "      <td>30.684331</td>\n",
              "      <td>5.787173</td>\n",
              "      <td>18.905</td>\n",
              "      <td>27.26500</td>\n",
              "      <td>30.495</td>\n",
              "      <td>34.3200</td>\n",
              "      <td>46.53</td>\n",
              "    </tr>\n",
              "    <tr>\n",
              "      <th>4</th>\n",
              "      <td>25.0</td>\n",
              "      <td>31.391200</td>\n",
              "      <td>4.627211</td>\n",
              "      <td>24.415</td>\n",
              "      <td>28.21500</td>\n",
              "      <td>29.640</td>\n",
              "      <td>33.6600</td>\n",
              "      <td>41.47</td>\n",
              "    </tr>\n",
              "    <tr>\n",
              "      <th>5</th>\n",
              "      <td>18.0</td>\n",
              "      <td>29.605000</td>\n",
              "      <td>7.139686</td>\n",
              "      <td>18.300</td>\n",
              "      <td>24.30250</td>\n",
              "      <td>28.550</td>\n",
              "      <td>33.0550</td>\n",
              "      <td>46.75</td>\n",
              "    </tr>\n",
              "  </tbody>\n",
              "</table>\n",
              "</div>\n",
              "      <button class=\"colab-df-convert\" onclick=\"convertToInteractive('df-dcd356ca-db0b-4142-9780-c8ea7fedffbd')\"\n",
              "              title=\"Convert this dataframe to an interactive table.\"\n",
              "              style=\"display:none;\">\n",
              "        \n",
              "  <svg xmlns=\"http://www.w3.org/2000/svg\" height=\"24px\"viewBox=\"0 0 24 24\"\n",
              "       width=\"24px\">\n",
              "    <path d=\"M0 0h24v24H0V0z\" fill=\"none\"/>\n",
              "    <path d=\"M18.56 5.44l.94 2.06.94-2.06 2.06-.94-2.06-.94-.94-2.06-.94 2.06-2.06.94zm-11 1L8.5 8.5l.94-2.06 2.06-.94-2.06-.94L8.5 2.5l-.94 2.06-2.06.94zm10 10l.94 2.06.94-2.06 2.06-.94-2.06-.94-.94-2.06-.94 2.06-2.06.94z\"/><path d=\"M17.41 7.96l-1.37-1.37c-.4-.4-.92-.59-1.43-.59-.52 0-1.04.2-1.43.59L10.3 9.45l-7.72 7.72c-.78.78-.78 2.05 0 2.83L4 21.41c.39.39.9.59 1.41.59.51 0 1.02-.2 1.41-.59l7.78-7.78 2.81-2.81c.8-.78.8-2.07 0-2.86zM5.41 20L4 18.59l7.72-7.72 1.47 1.35L5.41 20z\"/>\n",
              "  </svg>\n",
              "      </button>\n",
              "      \n",
              "  <style>\n",
              "    .colab-df-container {\n",
              "      display:flex;\n",
              "      flex-wrap:wrap;\n",
              "      gap: 12px;\n",
              "    }\n",
              "\n",
              "    .colab-df-convert {\n",
              "      background-color: #E8F0FE;\n",
              "      border: none;\n",
              "      border-radius: 50%;\n",
              "      cursor: pointer;\n",
              "      display: none;\n",
              "      fill: #1967D2;\n",
              "      height: 32px;\n",
              "      padding: 0 0 0 0;\n",
              "      width: 32px;\n",
              "    }\n",
              "\n",
              "    .colab-df-convert:hover {\n",
              "      background-color: #E2EBFA;\n",
              "      box-shadow: 0px 1px 2px rgba(60, 64, 67, 0.3), 0px 1px 3px 1px rgba(60, 64, 67, 0.15);\n",
              "      fill: #174EA6;\n",
              "    }\n",
              "\n",
              "    [theme=dark] .colab-df-convert {\n",
              "      background-color: #3B4455;\n",
              "      fill: #D2E3FC;\n",
              "    }\n",
              "\n",
              "    [theme=dark] .colab-df-convert:hover {\n",
              "      background-color: #434B5C;\n",
              "      box-shadow: 0px 1px 3px 1px rgba(0, 0, 0, 0.15);\n",
              "      filter: drop-shadow(0px 1px 2px rgba(0, 0, 0, 0.3));\n",
              "      fill: #FFFFFF;\n",
              "    }\n",
              "  </style>\n",
              "\n",
              "      <script>\n",
              "        const buttonEl =\n",
              "          document.querySelector('#df-dcd356ca-db0b-4142-9780-c8ea7fedffbd button.colab-df-convert');\n",
              "        buttonEl.style.display =\n",
              "          google.colab.kernel.accessAllowed ? 'block' : 'none';\n",
              "\n",
              "        async function convertToInteractive(key) {\n",
              "          const element = document.querySelector('#df-dcd356ca-db0b-4142-9780-c8ea7fedffbd');\n",
              "          const dataTable =\n",
              "            await google.colab.kernel.invokeFunction('convertToInteractive',\n",
              "                                                     [key], {});\n",
              "          if (!dataTable) return;\n",
              "\n",
              "          const docLinkHtml = 'Like what you see? Visit the ' +\n",
              "            '<a target=\"_blank\" href=https://colab.research.google.com/notebooks/data_table.ipynb>data table notebook</a>'\n",
              "            + ' to learn more about interactive tables.';\n",
              "          element.innerHTML = '';\n",
              "          dataTable['output_type'] = 'display_data';\n",
              "          await google.colab.output.renderOutput(dataTable, element);\n",
              "          const docLink = document.createElement('div');\n",
              "          docLink.innerHTML = docLinkHtml;\n",
              "          element.appendChild(docLink);\n",
              "        }\n",
              "      </script>\n",
              "    </div>\n",
              "  </div>\n",
              "  "
            ]
          },
          "metadata": {},
          "execution_count": 153
        }
      ]
    },
    {
      "cell_type": "code",
      "source": [
        "sns.catplot(x='children', y='bmi', data=data, kind='violin')\n",
        "plt.show()"
      ],
      "metadata": {
        "colab": {
          "base_uri": "https://localhost:8080/",
          "height": 365
        },
        "id": "oCsgC6667-4_",
        "outputId": "2bf228eb-7e92-4bd2-d2fb-27e08e8187f2"
      },
      "execution_count": 154,
      "outputs": [
        {
          "output_type": "display_data",
          "data": {
            "text/plain": [
              "<Figure size 360x360 with 1 Axes>"
            ],
            "image/png": "[encoded data removed]"
          },
          "metadata": {}
        }
      ]
    },
    {
      "cell_type": "code",
      "source": [
        "sns.pairplot(data=data[['children', 'bmi']]);"
      ],
      "metadata": {
        "colab": {
          "base_uri": "https://localhost:8080/",
          "height": 372
        },
        "id": "xpbuzxIS8q16",
        "outputId": "4cd6a13b-bc49-452c-84c3-3987a6eef2e7"
      },
      "execution_count": 155,
      "outputs": [
        {
          "output_type": "display_data",
          "data": {
            "text/plain": [
              "<Figure size 360x360 with 6 Axes>"
            ],
            "image/png": "[encoded data removed]"
          },
          "metadata": {}
        }
      ]
    },
    {
      "cell_type": "code",
      "source": [
        "sns.jointplot(data=data, x='children', y='bmi', kind=\"kde\", fill=True);"
      ],
      "metadata": {
        "colab": {
          "base_uri": "https://localhost:8080/",
          "height": 437
        },
        "id": "Q-WRMLDe-HKd",
        "outputId": "bfb26244-c967-4f59-b0be-e76f3529c1c5"
      },
      "execution_count": 156,
      "outputs": [
        {
          "output_type": "display_data",
          "data": {
            "text/plain": [
              "<Figure size 432x432 with 3 Axes>"
            ],
            "image/png": "[encoded data removed]"
          },
          "metadata": {}
        }
      ]
    },
    {
      "cell_type": "code",
      "source": [
        "#boxplot for visualization\n",
        "fig, ax = plt.subplots(figsize = (6,6))\n",
        "a = sns.boxplot(x='children', y='bmi', data=data)\n",
        "plt.show()"
      ],
      "metadata": {
        "colab": {
          "base_uri": "https://localhost:8080/",
          "height": 397
        },
        "id": "1PfGto6wENi9",
        "outputId": "a55a186a-afa9-4dee-da1c-445869462f33"
      },
      "execution_count": 157,
      "outputs": [
        {
          "output_type": "display_data",
          "data": {
            "text/plain": [
              "<Figure size 432x432 with 1 Axes>"
            ],
            "image/png": "[encoded data removed]"
          },
          "metadata": {}
        }
      ]
    },
    {
      "cell_type": "markdown",
      "metadata": {
        "id": "p2JkCzsJNAsJ"
      },
      "source": [
        "### Step 1: Define the null and alternate hypotheses"
      ]
    },
    {
      "cell_type": "markdown",
      "source": [
        "Null Hypothesis: There is no change in the average BMI of women depending on how many children they have.\n",
        "\n",
        "Alternative Hypothesis: There is a difference (variance) in the average BMI of women, depending on how many children they have."
      ],
      "metadata": {
        "id": "xloYnzJiA1Yd"
      }
    },
    {
      "cell_type": "markdown",
      "metadata": {
        "id": "HdgPoLN1NOJq"
      },
      "source": [
        "### Step 2: Select Appropriate test"
      ]
    },
    {
      "cell_type": "markdown",
      "source": [
        "ANOVA test to compare the sample means from more than 2 independent populations.\n",
        "Bivariate, one discrete and one continuous.\n",
        "\n",
        "Let's check the assumptions for this test:\n",
        "\n",
        "\n",
        "*   The populations are normally distributed - \n",
        "*   Samples are independent simple random samples - \n",
        "*   Normality - we will check with Shapiro-Wilk's test applied to the response variable\n",
        "*   Population variances are equal - we will discover this during the Levene test applied to the response variable\n",
        "\n"
      ],
      "metadata": {
        "id": "diFSHAYJ-53p"
      }
    },
    {
      "cell_type": "markdown",
      "metadata": {
        "id": "V_r-kU_gNWlH"
      },
      "source": [
        "### Step 3: Decide the significance level"
      ]
    },
    {
      "cell_type": "markdown",
      "metadata": {
        "id": "aN-WDWRH74Ht"
      },
      "source": [
        "We are asked to consider a significance leve of 0.05 for all tests.\n"
      ]
    },
    {
      "cell_type": "markdown",
      "metadata": {
        "id": "N2baKxOtNqLg"
      },
      "source": [
        "### Step 4: Collect and prepare data"
      ]
    },
    {
      "cell_type": "code",
      "source": [
        "# create new dataset\n",
        "bmidepends = data[['bmi', 'children']]"
      ],
      "metadata": {
        "id": "aQg6o2df-4Tu"
      },
      "execution_count": 158,
      "outputs": []
    },
    {
      "cell_type": "code",
      "source": [
        "# check that it created correctly\n",
        "bmidepends.head()"
      ],
      "metadata": {
        "colab": {
          "base_uri": "https://localhost:8080/",
          "height": 206
        },
        "id": "4svEoECSBnMw",
        "outputId": "91fdc2c8-e358-44ea-8ffd-da59cbd45a81"
      },
      "execution_count": 159,
      "outputs": [
        {
          "output_type": "execute_result",
          "data": {
            "text/plain": [
              "      bmi  children\n",
              "0  16.000         1\n",
              "1  33.770         1\n",
              "2  33.000         3\n",
              "3  22.705         0\n",
              "4  28.880         0"
            ],
            "text/html": [
              "\n",
              "  <div id=\"df-43210c5c-fc91-499e-b853-38549fc1c895\">\n",
              "    <div class=\"colab-df-container\">\n",
              "      <div>\n",
              "<style scoped>\n",
              "    .dataframe tbody tr th:only-of-type {\n",
              "        vertical-align: middle;\n",
              "    }\n",
              "\n",
              "    .dataframe tbody tr th {\n",
              "        vertical-align: top;\n",
              "    }\n",
              "\n",
              "    .dataframe thead th {\n",
              "        text-align: right;\n",
              "    }\n",
              "</style>\n",
              "<table border=\"1\" class=\"dataframe\">\n",
              "  <thead>\n",
              "    <tr style=\"text-align: right;\">\n",
              "      <th></th>\n",
              "      <th>bmi</th>\n",
              "      <th>children</th>\n",
              "    </tr>\n",
              "  </thead>\n",
              "  <tbody>\n",
              "    <tr>\n",
              "      <th>0</th>\n",
              "      <td>16.000</td>\n",
              "      <td>1</td>\n",
              "    </tr>\n",
              "    <tr>\n",
              "      <th>1</th>\n",
              "      <td>33.770</td>\n",
              "      <td>1</td>\n",
              "    </tr>\n",
              "    <tr>\n",
              "      <th>2</th>\n",
              "      <td>33.000</td>\n",
              "      <td>3</td>\n",
              "    </tr>\n",
              "    <tr>\n",
              "      <th>3</th>\n",
              "      <td>22.705</td>\n",
              "      <td>0</td>\n",
              "    </tr>\n",
              "    <tr>\n",
              "      <th>4</th>\n",
              "      <td>28.880</td>\n",
              "      <td>0</td>\n",
              "    </tr>\n",
              "  </tbody>\n",
              "</table>\n",
              "</div>\n",
              "      <button class=\"colab-df-convert\" onclick=\"convertToInteractive('df-43210c5c-fc91-499e-b853-38549fc1c895')\"\n",
              "              title=\"Convert this dataframe to an interactive table.\"\n",
              "              style=\"display:none;\">\n",
              "        \n",
              "  <svg xmlns=\"http://www.w3.org/2000/svg\" height=\"24px\"viewBox=\"0 0 24 24\"\n",
              "       width=\"24px\">\n",
              "    <path d=\"M0 0h24v24H0V0z\" fill=\"none\"/>\n",
              "    <path d=\"M18.56 5.44l.94 2.06.94-2.06 2.06-.94-2.06-.94-.94-2.06-.94 2.06-2.06.94zm-11 1L8.5 8.5l.94-2.06 2.06-.94-2.06-.94L8.5 2.5l-.94 2.06-2.06.94zm10 10l.94 2.06.94-2.06 2.06-.94-2.06-.94-.94-2.06-.94 2.06-2.06.94z\"/><path d=\"M17.41 7.96l-1.37-1.37c-.4-.4-.92-.59-1.43-.59-.52 0-1.04.2-1.43.59L10.3 9.45l-7.72 7.72c-.78.78-.78 2.05 0 2.83L4 21.41c.39.39.9.59 1.41.59.51 0 1.02-.2 1.41-.59l7.78-7.78 2.81-2.81c.8-.78.8-2.07 0-2.86zM5.41 20L4 18.59l7.72-7.72 1.47 1.35L5.41 20z\"/>\n",
              "  </svg>\n",
              "      </button>\n",
              "      \n",
              "  <style>\n",
              "    .colab-df-container {\n",
              "      display:flex;\n",
              "      flex-wrap:wrap;\n",
              "      gap: 12px;\n",
              "    }\n",
              "\n",
              "    .colab-df-convert {\n",
              "      background-color: #E8F0FE;\n",
              "      border: none;\n",
              "      border-radius: 50%;\n",
              "      cursor: pointer;\n",
              "      display: none;\n",
              "      fill: #1967D2;\n",
              "      height: 32px;\n",
              "      padding: 0 0 0 0;\n",
              "      width: 32px;\n",
              "    }\n",
              "\n",
              "    .colab-df-convert:hover {\n",
              "      background-color: #E2EBFA;\n",
              "      box-shadow: 0px 1px 2px rgba(60, 64, 67, 0.3), 0px 1px 3px 1px rgba(60, 64, 67, 0.15);\n",
              "      fill: #174EA6;\n",
              "    }\n",
              "\n",
              "    [theme=dark] .colab-df-convert {\n",
              "      background-color: #3B4455;\n",
              "      fill: #D2E3FC;\n",
              "    }\n",
              "\n",
              "    [theme=dark] .colab-df-convert:hover {\n",
              "      background-color: #434B5C;\n",
              "      box-shadow: 0px 1px 3px 1px rgba(0, 0, 0, 0.15);\n",
              "      filter: drop-shadow(0px 1px 2px rgba(0, 0, 0, 0.3));\n",
              "      fill: #FFFFFF;\n",
              "    }\n",
              "  </style>\n",
              "\n",
              "      <script>\n",
              "        const buttonEl =\n",
              "          document.querySelector('#df-43210c5c-fc91-499e-b853-38549fc1c895 button.colab-df-convert');\n",
              "        buttonEl.style.display =\n",
              "          google.colab.kernel.accessAllowed ? 'block' : 'none';\n",
              "\n",
              "        async function convertToInteractive(key) {\n",
              "          const element = document.querySelector('#df-43210c5c-fc91-499e-b853-38549fc1c895');\n",
              "          const dataTable =\n",
              "            await google.colab.kernel.invokeFunction('convertToInteractive',\n",
              "                                                     [key], {});\n",
              "          if (!dataTable) return;\n",
              "\n",
              "          const docLinkHtml = 'Like what you see? Visit the ' +\n",
              "            '<a target=\"_blank\" href=https://colab.research.google.com/notebooks/data_table.ipynb>data table notebook</a>'\n",
              "            + ' to learn more about interactive tables.';\n",
              "          element.innerHTML = '';\n",
              "          dataTable['output_type'] = 'display_data';\n",
              "          await google.colab.output.renderOutput(dataTable, element);\n",
              "          const docLink = document.createElement('div');\n",
              "          docLink.innerHTML = docLinkHtml;\n",
              "          element.appendChild(docLink);\n",
              "        }\n",
              "      </script>\n",
              "    </div>\n",
              "  </div>\n",
              "  "
            ]
          },
          "metadata": {},
          "execution_count": 159
        }
      ]
    },
    {
      "cell_type": "markdown",
      "source": [
        "We will first test for normal distribution of BMI with the Shapiro-Wilk's Test.\n",
        "\n",
        "Null Hypothesis: BMI follows a normal distribution\n",
        "\n",
        "Alternative Hypothesis: BMI does not follow a normal distribution"
      ],
      "metadata": {
        "id": "rybPjFUmH_T_"
      }
    },
    {
      "cell_type": "code",
      "source": [
        "# import the required function to check Normality with Shapiro's Test\n",
        "from scipy.stats import shapiro"
      ],
      "metadata": {
        "id": "pTAUaR_SB-v9"
      },
      "execution_count": 160,
      "outputs": []
    },
    {
      "cell_type": "code",
      "source": [
        "# find the p-value\n",
        "w, p_value = shapiro(bmidepends['bmi'])\n",
        "print('The p-value is', p_value)\n",
        "\n"
      ],
      "metadata": {
        "colab": {
          "base_uri": "https://localhost:8080/"
        },
        "id": "RXeOFT1jChGb",
        "outputId": "973f3d9e-0ae3-446b-971f-2829c060c389"
      },
      "execution_count": 161,
      "outputs": [
        {
          "output_type": "stream",
          "name": "stdout",
          "text": [
            "The p-value is 0.0003640271897893399\n"
          ]
        }
      ]
    },
    {
      "cell_type": "code",
      "source": [
        "# print the conclusion based on p-value\n",
        "if p_value<0.05:\n",
        "  print(f'As the p-value {p_value} is less than the level of significance, we reject the null hypothesis.')\n",
        "else:\n",
        "  print(f'As the p-value {p_value} is greater than the level of significance we reject the null hypothesis.')"
      ],
      "metadata": {
        "colab": {
          "base_uri": "https://localhost:8080/"
        },
        "outputId": "ada69011-574b-462d-bb7d-1a8af593b534",
        "id": "BpfBb35zI0w7"
      },
      "execution_count": 162,
      "outputs": [
        {
          "output_type": "stream",
          "name": "stdout",
          "text": [
            "As the p-value 0.0003640271897893399 is less than the level of significance, we reject the null hypothesis.\n"
          ]
        }
      ]
    },
    {
      "cell_type": "markdown",
      "source": [
        "Since the p-value is low, we must reject that there is a normal distribution of the data. This suggests that BMI is skewed somehow.\n",
        "\n",
        "We now try the Levene's Test for equality of variance.\n",
        "\n",
        "Levene's Test Null Hypothesis: All BMI variances are equal.\n",
        "\n",
        "Levene's Test Alternate Hypothesis: There is some variance in the BMI's."
      ],
      "metadata": {
        "id": "F5A39xVKJNsJ"
      }
    },
    {
      "cell_type": "code",
      "source": [
        "# import the required function\n",
        "from scipy.stats import levene"
      ],
      "metadata": {
        "id": "NuAEFoxBJ9XA"
      },
      "execution_count": 163,
      "outputs": []
    },
    {
      "cell_type": "code",
      "source": [
        "statistic, p_value = levene (bmidepends[bmidepends['children']==0]['bmi'],\n",
        "                             bmidepends[bmidepends['children']==1]['bmi'],\n",
        "                             bmidepends[bmidepends['children']==2]['bmi'],\n",
        "                             bmidepends[bmidepends['children']==3]['bmi'],\n",
        "                             bmidepends[bmidepends['children']==4]['bmi'],\n",
        "                             bmidepends[bmidepends['children']==5]['bmi'])\n",
        "#find the p-value\n",
        "print('The p-value is', p_value)"
      ],
      "metadata": {
        "colab": {
          "base_uri": "https://localhost:8080/"
        },
        "id": "uEABO5KgKGLd",
        "outputId": "545bec7e-b6e4-4510-c88d-0ee9cb9e60ee"
      },
      "execution_count": 164,
      "outputs": [
        {
          "output_type": "stream",
          "name": "stdout",
          "text": [
            "The p-value is 0.20500444690567793\n"
          ]
        }
      ]
    },
    {
      "cell_type": "code",
      "source": [
        "# print the conclusion based on p-value\n",
        "if p_value<0.05:\n",
        "  print(f'As the p-value {p_value} is less than the level of significance, we reject the null hypothesis.')\n",
        "else:\n",
        "  print(f'As the p-value {p_value} is greater than the level of significance we reject the null hypothesis.')"
      ],
      "metadata": {
        "colab": {
          "base_uri": "https://localhost:8080/"
        },
        "outputId": "3f2dc333-50e2-4bd3-bb48-5de9776b0313",
        "id": "naPZefwtLb34"
      },
      "execution_count": 165,
      "outputs": [
        {
          "output_type": "stream",
          "name": "stdout",
          "text": [
            "As the p-value 0.20500444690567793 is greater than the level of significance we reject the null hypothesis.\n"
          ]
        }
      ]
    },
    {
      "cell_type": "markdown",
      "source": [
        "We are rejecting that all BMI variances are equal, and instead understand that there is some variance in the BMI's based on how many children a person has.\n",
        "\n",
        "We will go ahead with the Levene-Wilk's Test, with the understanding that there is not a normal distribution and there is variance in the BMI's depending on how many children a person has."
      ],
      "metadata": {
        "id": "ok88vakYLiEp"
      }
    },
    {
      "cell_type": "markdown",
      "metadata": {
        "id": "HLdXUSBEN74m"
      },
      "source": [
        "### Step 5: Calculate the p-value"
      ]
    },
    {
      "cell_type": "code",
      "source": [
        "# collect and prepare the data\n",
        "bmidepends0 = bmidepends[bmidepends['children']==0]['bmi']\n",
        "bmidepends1 = bmidepends[bmidepends['children']==1]['bmi']\n",
        "bmidepends2 = bmidepends[bmidepends['children']==2]['bmi']\n",
        "bmidepends3 = bmidepends[bmidepends['children']==3]['bmi']\n",
        "bmidepends4 = bmidepends[bmidepends['children']==4]['bmi']\n",
        "bmidepends5 = bmidepends[bmidepends['children']==5]['bmi']"
      ],
      "metadata": {
        "id": "xxldbIK6MR2i"
      },
      "execution_count": 166,
      "outputs": []
    },
    {
      "cell_type": "code",
      "execution_count": 167,
      "metadata": {
        "id": "TFpw2VSN5riR"
      },
      "outputs": [],
      "source": [
        "# import the required function\n",
        "from scipy.stats import f_oneway"
      ]
    },
    {
      "cell_type": "code",
      "source": [
        "# find the p-value\n",
        "test_stat, p_value = f_oneway(bmidepends0, bmidepends1, bmidepends2, bmidepends3, bmidepends4, bmidepends5)\n",
        "# print the p-value\n",
        "print('The p-value is', p_value)"
      ],
      "metadata": {
        "colab": {
          "base_uri": "https://localhost:8080/"
        },
        "id": "4bLAQ8-bNPmD",
        "outputId": "7db6a5f6-6a40-485b-a386-fa05bac78618"
      },
      "execution_count": 168,
      "outputs": [
        {
          "output_type": "stream",
          "name": "stdout",
          "text": [
            "The p-value is 0.9231972483563488\n"
          ]
        }
      ]
    },
    {
      "cell_type": "markdown",
      "metadata": {
        "id": "y77-6NzmOKm0"
      },
      "source": [
        "### Step 7:  Draw inference"
      ]
    },
    {
      "cell_type": "markdown",
      "source": [
        "Since the p-value is greater than the 5% significance level, we fail to reject the null hypothesis. Hence, we do not have enough statistical evidence to say that a person's BMI varies based on how many children they have."
      ],
      "metadata": {
        "id": "pm8RxQjtNoy2"
      }
    },
    {
      "cell_type": "markdown",
      "metadata": {
        "id": "VUDZIHan5riR"
      },
      "source": [
        "## Conclusion and Business Recommendations"
      ]
    },
    {
      "cell_type": "markdown",
      "metadata": {
        "id": "lJQ98iwq5riR"
      },
      "source": [
        "This was a well-balanced study with 1,338 participants, and was evenly drawn in sex, smoker, age, and region. The average age was 39 years old, average number of children was 1, and average charges to insurance are 13,270 dollars. Just less than half of participants have no children. Only about 20% of participants are smokers. \n",
        "\n",
        "There was no missing data in the dataset given, and no correlations seen in the integer-type categories.\n",
        "\n",
        "  Amount charged to insurance goes up with age\n",
        "\n",
        "1.   After running the tests and coming up with a low p-value, we can see that there is a large effect between the amount that smokers bill to insurance versus non-smokers. Smokers bill ~3.8 times more medical costs to health insurance than non-smokers.\n",
        "     - Amount charged to insurance goes up with age.\n",
        "     - None of the smokers had 0 charges to insurance, but non-smokers had quite a few with no claims.\n",
        "     - Non-smokers charges ranged from 0-40,000 dollars, while smokers charges ranged from 12,000-60,000+ dollars.\n",
        "2.  There was enough variance in the BMI data between Males and Females to reject the null hypothesis and say that gender does have a statistically significant effect on BMI.\n",
        "     - Males have a slightly larger BMI than females.\n",
        "     - Males have a larger range of charges to insurance, although the same average charge.\n",
        "3.  The data showed that there may be some correlation between which region a person lives in and whether they smoke or not.\n",
        "     - There was no difference for non-smokers based on which region they lived in.\n",
        "     - There was a small increase of smokers living in the Southeast region, but it was statistically significant.\n",
        "4.  There was not enough statistical evidence to say that a person's BMI varies based on how many children they have.\n",
        "    - All average BMI's were between 29.6 - 30.9, regardless of how many children or their age.\n",
        "\n",
        "The insurance company should do an analysis to see how much extra charges age and smoking adds to their costs, and be sure to adjust their customer prices to keep up with those categories.  The other categories seem to not impact charges very much.\n",
        "\n",
        "\n",
        "\n",
        "\n",
        "\n",
        "\n",
        "\n"
      ]
    }
  ],
  "metadata": {
    "kernelspec": {
      "display_name": "Python 3",
      "language": "python",
      "name": "python3"
    },
    "language_info": {
      "codemirror_mode": {
        "name": "ipython",
        "version": 3
      },
      "file_extension": ".py",
      "mimetype": "text/x-python",
      "name": "python",
      "nbconvert_exporter": "python",
      "pygments_lexer": "ipython3",
      "version": "3.8.8"
    },
    "colab": {
      "provenance": [],
      "include_colab_link": true
    }
  },
  "nbformat": 4,
  "nbformat_minor": 0
}